{
 "cells": [
  {
   "cell_type": "code",
   "execution_count": 1,
   "id": "faf8530a-f76d-4608-99ea-ed8d97be6160",
   "metadata": {},
   "outputs": [],
   "source": [
    "import tensorflow as tf\n",
    "import numpy as np"
   ]
  },
  {
   "cell_type": "markdown",
   "id": "cf4e162b-8657-4a7b-b3d6-eb04d1426188",
   "metadata": {},
   "source": [
    "## Membuat random tensor dengan shape (5,5)"
   ]
  },
  {
   "cell_type": "code",
   "execution_count": 2,
   "id": "cda80136-fe14-4d03-984d-02280183fdb1",
   "metadata": {},
   "outputs": [
    {
     "data": {
      "text/plain": [
       "array([[ 1.,  1.,  0.,  0., -1.],\n",
       "       [-1., -0.,  1.,  0., -2.],\n",
       "       [ 0.,  0.,  1.,  0.,  0.],\n",
       "       [-2.,  1., -0.,  0.,  1.],\n",
       "       [-1., -0., -0.,  0., -1.]], dtype=float32)"
      ]
     },
     "execution_count": 2,
     "metadata": {},
     "output_type": "execute_result"
    }
   ],
   "source": [
    "random_tensor = np.around(tf.random.normal([5,5]))\n",
    "random_tensor"
   ]
  },
  {
   "cell_type": "markdown",
   "id": "ff4cab91-de4f-49ca-af32-eda546106153",
   "metadata": {},
   "source": [
    "## Tensor bilangan prima dengan shape (5,5)"
   ]
  },
  {
   "cell_type": "code",
   "execution_count": 3,
   "id": "67f2ce1e-d9f6-4997-b6d5-17bc427329c2",
   "metadata": {},
   "outputs": [],
   "source": [
    "prima = [[1,2,3,5,7],\n",
    "         [11,13,17,19,23],\n",
    "         [29,31,37,41,43],\n",
    "         [47,53,59,61,71],\n",
    "         [73,79,83,89,97]]"
   ]
  },
  {
   "cell_type": "code",
   "execution_count": 4,
   "id": "07eca363-3038-4189-8d53-7204141c374b",
   "metadata": {},
   "outputs": [
    {
     "data": {
      "text/plain": [
       "<tf.Tensor: shape=(5, 5), dtype=float32, numpy=\n",
       "array([[ 1.,  2.,  3.,  5.,  7.],\n",
       "       [11., 13., 17., 19., 23.],\n",
       "       [29., 31., 37., 41., 43.],\n",
       "       [47., 53., 59., 61., 71.],\n",
       "       [73., 79., 83., 89., 97.]], dtype=float32)>"
      ]
     },
     "execution_count": 4,
     "metadata": {},
     "output_type": "execute_result"
    }
   ],
   "source": [
    "prime_tensor = tf.convert_to_tensor(prima, dtype = tf.float32)\n",
    "prime_tensor"
   ]
  },
  {
   "cell_type": "markdown",
   "id": "269e4400-881f-4ff4-9606-eee177bae4d1",
   "metadata": {},
   "source": [
    "## Dimensi variabel"
   ]
  },
  {
   "cell_type": "code",
   "execution_count": 5,
   "id": "ffcc20ca-4c1d-43fb-8ca6-092d0a0be019",
   "metadata": {},
   "outputs": [
    {
     "data": {
      "text/plain": [
       "(5, 5)"
      ]
     },
     "execution_count": 5,
     "metadata": {},
     "output_type": "execute_result"
    }
   ],
   "source": [
    "random_tensor.shape"
   ]
  },
  {
   "cell_type": "code",
   "execution_count": 6,
   "id": "ff142300-0a25-462f-8994-3ef99282b135",
   "metadata": {},
   "outputs": [
    {
     "data": {
      "text/plain": [
       "TensorShape([5, 5])"
      ]
     },
     "execution_count": 6,
     "metadata": {},
     "output_type": "execute_result"
    }
   ],
   "source": [
    "prime_tensor.shape"
   ]
  },
  {
   "cell_type": "markdown",
   "id": "d16fae79-bbb0-464c-9fbf-54d14ca9bf94",
   "metadata": {},
   "source": [
    "## Perhitungan aritmatika 2 variabel"
   ]
  },
  {
   "cell_type": "markdown",
   "id": "ccc896a4-c1f1-476c-8863-535f34e58a22",
   "metadata": {},
   "source": [
    "### 1. Penjumlahan"
   ]
  },
  {
   "cell_type": "code",
   "execution_count": 7,
   "id": "e97a16e5-2f2d-42d6-9e55-f77db51072b2",
   "metadata": {},
   "outputs": [
    {
     "data": {
      "text/plain": [
       "<tf.Tensor: shape=(5, 5), dtype=float32, numpy=\n",
       "array([[ 2.,  3.,  3.,  5.,  6.],\n",
       "       [10., 13., 18., 19., 21.],\n",
       "       [29., 31., 38., 41., 43.],\n",
       "       [45., 54., 59., 61., 72.],\n",
       "       [72., 79., 83., 89., 96.]], dtype=float32)>"
      ]
     },
     "execution_count": 7,
     "metadata": {},
     "output_type": "execute_result"
    }
   ],
   "source": [
    "tambah = tf.add(random_tensor,prime_tensor)\n",
    "tambah"
   ]
  },
  {
   "cell_type": "markdown",
   "id": "15de7c07-2c83-43b1-a2d5-9dc1f6b4105b",
   "metadata": {},
   "source": [
    "### 2. Pengurangan"
   ]
  },
  {
   "cell_type": "code",
   "execution_count": 8,
   "id": "9169071f-d790-4f62-b16f-f0105dacab72",
   "metadata": {},
   "outputs": [
    {
     "data": {
      "text/plain": [
       "<tf.Tensor: shape=(5, 5), dtype=float32, numpy=\n",
       "array([[  0.,  -1.,  -3.,  -5.,  -8.],\n",
       "       [-12., -13., -16., -19., -25.],\n",
       "       [-29., -31., -36., -41., -43.],\n",
       "       [-49., -52., -59., -61., -70.],\n",
       "       [-74., -79., -83., -89., -98.]], dtype=float32)>"
      ]
     },
     "execution_count": 8,
     "metadata": {},
     "output_type": "execute_result"
    }
   ],
   "source": [
    "kurang = tf.subtract(random_tensor,prime_tensor)\n",
    "kurang"
   ]
  },
  {
   "cell_type": "markdown",
   "id": "3ce33426-2e1d-4243-a32c-078d44c4226c",
   "metadata": {},
   "source": [
    "### 3. Perkalian"
   ]
  },
  {
   "cell_type": "code",
   "execution_count": 9,
   "id": "23077533-dc89-4e77-bbe8-36b506e52dde",
   "metadata": {},
   "outputs": [
    {
     "data": {
      "text/plain": [
       "<tf.Tensor: shape=(5, 5), dtype=float32, numpy=\n",
       "array([[  1.,   2.,   0.,   0.,  -7.],\n",
       "       [-11.,  -0.,  17.,   0., -46.],\n",
       "       [  0.,   0.,  37.,   0.,   0.],\n",
       "       [-94.,  53.,  -0.,   0.,  71.],\n",
       "       [-73.,  -0.,  -0.,   0., -97.]], dtype=float32)>"
      ]
     },
     "execution_count": 9,
     "metadata": {},
     "output_type": "execute_result"
    }
   ],
   "source": [
    "kali = tf.multiply(random_tensor,prime_tensor)\n",
    "kali"
   ]
  },
  {
   "cell_type": "markdown",
   "id": "6fc5f6a4-4634-499d-a6e5-a42263bc286f",
   "metadata": {},
   "source": [
    "### 4. Pembagian"
   ]
  },
  {
   "cell_type": "code",
   "execution_count": 10,
   "id": "38f2eafd-9e92-4e5e-8966-1701f0c1c071",
   "metadata": {},
   "outputs": [
    {
     "data": {
      "text/plain": [
       "<tf.Tensor: shape=(5, 5), dtype=float32, numpy=\n",
       "array([[ 1.        ,  0.5       ,  0.        ,  0.        , -0.14285715],\n",
       "       [-0.09090909, -0.        ,  0.05882353,  0.        , -0.08695652],\n",
       "       [ 0.        ,  0.        ,  0.02702703,  0.        ,  0.        ],\n",
       "       [-0.04255319,  0.01886792, -0.        ,  0.        ,  0.01408451],\n",
       "       [-0.01369863, -0.        , -0.        ,  0.        , -0.01030928]],\n",
       "      dtype=float32)>"
      ]
     },
     "execution_count": 10,
     "metadata": {},
     "output_type": "execute_result"
    }
   ],
   "source": [
    "bagi = tf.divide(random_tensor,prime_tensor)\n",
    "bagi"
   ]
  },
  {
   "cell_type": "markdown",
   "id": "a77cdf0d-3bcb-4216-a4a3-2df5c4694a3c",
   "metadata": {},
   "source": [
    "### 5. Pangkat"
   ]
  },
  {
   "cell_type": "code",
   "execution_count": 11,
   "id": "944b3847-cb30-43ba-b50d-d8981f3bcc4a",
   "metadata": {},
   "outputs": [
    {
     "data": {
      "text/plain": [
       "<tf.Tensor: shape=(5, 5), dtype=float32, numpy=\n",
       "array([[ 1.0000000e+00,  1.0000000e+00,  0.0000000e+00,  0.0000000e+00,\n",
       "        -1.0000000e+00],\n",
       "       [-1.0000000e+00, -0.0000000e+00,  1.0000000e+00,  0.0000000e+00,\n",
       "        -8.3886080e+06],\n",
       "       [ 0.0000000e+00,  0.0000000e+00,  1.0000000e+00,  0.0000000e+00,\n",
       "         0.0000000e+00],\n",
       "       [-1.4073749e+14,  1.0000000e+00, -0.0000000e+00,  0.0000000e+00,\n",
       "         1.0000000e+00],\n",
       "       [-1.0000000e+00, -0.0000000e+00, -0.0000000e+00,  0.0000000e+00,\n",
       "        -1.0000000e+00]], dtype=float32)>"
      ]
     },
     "execution_count": 11,
     "metadata": {},
     "output_type": "execute_result"
    }
   ],
   "source": [
    "pangkat = tf.pow(random_tensor,prime_tensor)\n",
    "pangkat"
   ]
  },
  {
   "cell_type": "markdown",
   "id": "1e9cc751-eb75-4ede-a6d1-0ce1701ac947",
   "metadata": {},
   "source": [
    "## Menampilkan nilai maks dan min dari variabel random_tensor"
   ]
  },
  {
   "cell_type": "code",
   "execution_count": 12,
   "id": "f225101a-32e1-41ee-ab57-90677486fdc1",
   "metadata": {},
   "outputs": [
    {
     "name": "stdout",
     "output_type": "stream",
     "text": [
      "Nilai maks dari kolom:  tf.Tensor([0 2 2 1 1], shape=(5,), dtype=int64)\n",
      "Nilai min dari kolom:  tf.Tensor([4 4 0 0 0], shape=(5,), dtype=int64)\n",
      "Nilai maks dari baris:  tf.Tensor([4 4 4 4 4], shape=(5,), dtype=int64)\n",
      "Nilai min dari baris:  tf.Tensor([0 0 0 0 0], shape=(5,), dtype=int64)\n"
     ]
    }
   ],
   "source": [
    "print(\"Nilai maks dari kolom: \", tf.argmax(random_tensor, axis=1))\n",
    "print(\"Nilai min dari kolom: \", tf.argmin(random_tensor, axis=1))\n",
    "print(\"Nilai maks dari baris: \", tf.argmax(prime_tensor, axis=0))\n",
    "print(\"Nilai min dari baris: \", tf.argmin(prime_tensor, axis=0))"
   ]
  },
  {
   "cell_type": "markdown",
   "id": "2e05b4f1-0ba7-4f7a-b4fc-884c502ef322",
   "metadata": {},
   "source": [
    "## Penggabungan variabel"
   ]
  },
  {
   "cell_type": "markdown",
   "id": "bc95708a-5578-4bab-afc5-d019abd4a856",
   "metadata": {},
   "source": [
    "### 1. Penggabungan kolom"
   ]
  },
  {
   "cell_type": "code",
   "execution_count": 13,
   "id": "b72b23e3-655c-4ce4-ba9c-c42507a83191",
   "metadata": {},
   "outputs": [
    {
     "name": "stdout",
     "output_type": "stream",
     "text": [
      "tf.Tensor(\n",
      "[[ 1.  1.  0.  0. -1.  1.  2.  3.  5.  7.]\n",
      " [-1. -0.  1.  0. -2. 11. 13. 17. 19. 23.]\n",
      " [ 0.  0.  1.  0.  0. 29. 31. 37. 41. 43.]\n",
      " [-2.  1. -0.  0.  1. 47. 53. 59. 61. 71.]\n",
      " [-1. -0. -0.  0. -1. 73. 79. 83. 89. 97.]], shape=(5, 10), dtype=float32)\n"
     ]
    }
   ],
   "source": [
    "print(tf.concat([random_tensor,prime_tensor], axis=1))"
   ]
  },
  {
   "cell_type": "markdown",
   "id": "557cfa3a-6f80-4d2b-838d-966545353ff5",
   "metadata": {},
   "source": [
    "### 2. Penggabungan baris"
   ]
  },
  {
   "cell_type": "code",
   "execution_count": 14,
   "id": "2edb3dab-b795-4135-aa40-541c473493dd",
   "metadata": {},
   "outputs": [
    {
     "name": "stdout",
     "output_type": "stream",
     "text": [
      "tf.Tensor(\n",
      "[[ 1.  1.  0.  0. -1.]\n",
      " [-1. -0.  1.  0. -2.]\n",
      " [ 0.  0.  1.  0.  0.]\n",
      " [-2.  1. -0.  0.  1.]\n",
      " [-1. -0. -0.  0. -1.]\n",
      " [ 1.  2.  3.  5.  7.]\n",
      " [11. 13. 17. 19. 23.]\n",
      " [29. 31. 37. 41. 43.]\n",
      " [47. 53. 59. 61. 71.]\n",
      " [73. 79. 83. 89. 97.]], shape=(10, 5), dtype=float32)\n"
     ]
    }
   ],
   "source": [
    "print(tf.concat([random_tensor,prime_tensor], axis=0))"
   ]
  },
  {
   "cell_type": "markdown",
   "id": "66e1dab3-190d-4860-a9f5-b226cb128060",
   "metadata": {},
   "source": [
    "### Menampilkan hasil sorting (descending)"
   ]
  },
  {
   "cell_type": "code",
   "execution_count": 15,
   "id": "51be66dc-9ae1-4273-af2d-0be3e23915e6",
   "metadata": {},
   "outputs": [
    {
     "data": {
      "text/plain": [
       "array([[ 1.,  1.,  0.,  0., -1.],\n",
       "       [ 1., -0.,  0., -1., -2.],\n",
       "       [ 1.,  0.,  0.,  0.,  0.],\n",
       "       [ 1.,  1., -0.,  0., -2.],\n",
       "       [-0., -0.,  0., -1., -1.]], dtype=float32)"
      ]
     },
     "execution_count": 15,
     "metadata": {},
     "output_type": "execute_result"
    }
   ],
   "source": [
    "#sorting dari variabel rdm_tensor secara descending menggunakan tf.sort dan direction(perintah sorting) : descending\n",
    "sort_rdm1 = tf.sort(random_tensor, direction=\"DESCENDING\") \n",
    "sort_rdm1.numpy()"
   ]
  },
  {
   "cell_type": "code",
   "execution_count": 16,
   "id": "e2d41a2b-6aa3-4d34-b8f2-795a36b3f697",
   "metadata": {},
   "outputs": [
    {
     "data": {
      "text/plain": [
       "array([[ 7.,  5.,  3.,  2.,  1.],\n",
       "       [23., 19., 17., 13., 11.],\n",
       "       [43., 41., 37., 31., 29.],\n",
       "       [71., 61., 59., 53., 47.],\n",
       "       [97., 89., 83., 79., 73.]], dtype=float32)"
      ]
     },
     "execution_count": 16,
     "metadata": {},
     "output_type": "execute_result"
    }
   ],
   "source": [
    "#sorting dari variabel rdm_tensor secara descending menggunakan tf.sort dan direction(perintah sorting) : descending\n",
    "sort_prm1 = tf.sort(prime_tensor, direction=\"DESCENDING\") \n",
    "sort_prm1.numpy()"
   ]
  },
  {
   "cell_type": "code",
   "execution_count": 17,
   "id": "7c6de0cf-1ef5-47f5-898f-988c85f14e4e",
   "metadata": {},
   "outputs": [
    {
     "data": {
      "text/plain": [
       "array([[0, 1, 2, 3, 4],\n",
       "       [2, 1, 3, 0, 4],\n",
       "       [2, 0, 1, 3, 4],\n",
       "       [1, 4, 2, 3, 0],\n",
       "       [1, 2, 3, 0, 4]])"
      ]
     },
     "execution_count": 17,
     "metadata": {},
     "output_type": "execute_result"
    }
   ],
   "source": [
    "#sorting secara descending menggunakan direction(perintah sorting) dan tf.argsort():Mengembalikan index dari tensornya\n",
    "sort_rdm2 = tf.argsort(random_tensor, direction=\"DESCENDING\") \n",
    "sort_rdm2.numpy()"
   ]
  },
  {
   "cell_type": "code",
   "execution_count": 18,
   "id": "15cae183-2561-4240-9786-264fc4edd52b",
   "metadata": {},
   "outputs": [
    {
     "data": {
      "text/plain": [
       "array([[4, 3, 2, 1, 0],\n",
       "       [4, 3, 2, 1, 0],\n",
       "       [4, 3, 2, 1, 0],\n",
       "       [4, 3, 2, 1, 0],\n",
       "       [4, 3, 2, 1, 0]])"
      ]
     },
     "execution_count": 18,
     "metadata": {},
     "output_type": "execute_result"
    }
   ],
   "source": [
    "#sorting secara descending menggunakan direction(perintah sorting) dan tf.argsort():Mengembalikan index dari tensornya\n",
    "sort_prm2 = tf.argsort(prime_tensor, direction=\"DESCENDING\")\n",
    "sort_prm2.numpy()"
   ]
  },
  {
   "cell_type": "code",
   "execution_count": null,
   "id": "75c5df8b-210a-46d6-8e82-f278590ea30d",
   "metadata": {},
   "outputs": [],
   "source": []
  }
 ],
 "metadata": {
  "kernelspec": {
   "display_name": "Python 3 (ipykernel)",
   "language": "python",
   "name": "python3"
  },
  "language_info": {
   "codemirror_mode": {
    "name": "ipython",
    "version": 3
   },
   "file_extension": ".py",
   "mimetype": "text/x-python",
   "name": "python",
   "nbconvert_exporter": "python",
   "pygments_lexer": "ipython3",
   "version": "3.10.7"
  }
 },
 "nbformat": 4,
 "nbformat_minor": 5
}
