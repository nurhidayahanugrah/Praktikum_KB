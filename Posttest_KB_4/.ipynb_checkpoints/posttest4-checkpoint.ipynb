{
 "cells": [
  {
   "cell_type": "markdown",
   "id": "657e16e1-6078-4cad-a467-d7b2713eabb7",
   "metadata": {},
   "source": [
    "## Posttest 4\n",
    "\n",
    "Data preprocessing\n",
    "Dataset yang digunakan adalah Brazilian E-Commerce Public Dataset by Olist. Ini adalah kumpulan data publik e-niaga Brasil dari pesanan yang dibuat di Olist Store . Dataset memiliki informasi 100k pesanan dari 2016 hingga 2018 yang dibuat di beberapa pasar di Brasil. Fitur-fiturnya memungkinkan melihat pesanan dari berbagai dimensi: dari status pesanan, harga, kinerja pembayaran dan pengiriman hingga lokasi pelanggan, atribut produk, dan akhirnya ulasan yang ditulis oleh pelanggan. Kami juga merilis kumpulan data geolokasi yang menghubungkan kode pos Brasil dengan koordinat lat/lng."
   ]
  },
  {
   "cell_type": "markdown",
   "id": "3ee6b809-da54-482c-bfdd-b725efd15db1",
   "metadata": {},
   "source": [
    "## Import library yang digunakan"
   ]
  },
  {
   "cell_type": "code",
   "execution_count": 1,
   "id": "ad54533b-9984-4ef7-aa6e-040f9ffad85c",
   "metadata": {},
   "outputs": [],
   "source": [
    "import pandas as pd\n",
    "import seaborn as sns\n",
    "import numpy as np\n",
    "import matplotlib.pyplot as pl\n",
    "from sklearn.model_selection import train_test_split # data split (training dan testing)\n",
    "from sklearn.preprocessing import StandardScaler # standarisasi\n",
    "from sklearn.preprocessing import MinMaxScaler # normalisasi\n",
    "from sklearn.impute import SimpleImputer #subtitusi nilai\n",
    "from sklearn.preprocessing import OrdinalEncoder #encoder\n",
    "from sklearn.preprocessing import OneHotEncoder #onehot"
   ]
  },
  {
   "cell_type": "markdown",
   "id": "4e6b42d5-5840-4817-8c2d-cd4ccf9ba69a",
   "metadata": {},
   "source": [
    "## Membaca file dataset"
   ]
  },
  {
   "cell_type": "code",
   "execution_count": 2,
   "id": "b903a9fc-4348-4ceb-90a2-00be9834baa0",
   "metadata": {},
   "outputs": [],
   "source": [
    "cust = pd.read_csv('olist_customers_dataset.csv')\n",
    "geo = pd.read_csv('olist_geolocation_dataset.csv')\n",
    "item = pd.read_csv('olist_order_items_dataset.csv')\n",
    "payment = pd.read_csv('olist_order_payments_dataset.csv')\n",
    "review = pd.read_csv('olist_order_reviews_dataset.csv')\n",
    "order = pd.read_csv('olist_orders_dataset.csv')\n",
    "product = pd.read_csv('olist_products_dataset.csv')\n",
    "seller = pd.read_csv('olist_sellers_dataset.csv')\n",
    "prodinfo = pd.read_csv('product_category_name_translation.csv')"
   ]
  },
  {
   "cell_type": "markdown",
   "id": "fa2ef2a9-d9b0-478b-9ce0-d49f5166d274",
   "metadata": {},
   "source": [
    "### Melihat info  dari atribut dalam file csv contohnya seperti type data, jumlah baris, dll"
   ]
  },
  {
   "cell_type": "code",
   "execution_count": 3,
   "id": "147c4399-01ec-46c3-8d5c-1d8ae3a430a8",
   "metadata": {},
   "outputs": [
    {
     "name": "stdout",
     "output_type": "stream",
     "text": [
      "<class 'pandas.core.frame.DataFrame'>\n",
      "RangeIndex: 99441 entries, 0 to 99440\n",
      "Data columns (total 5 columns):\n",
      " #   Column                    Non-Null Count  Dtype \n",
      "---  ------                    --------------  ----- \n",
      " 0   customer_id               99441 non-null  object\n",
      " 1   customer_unique_id        99441 non-null  object\n",
      " 2   customer_zip_code_prefix  99441 non-null  int64 \n",
      " 3   customer_city             99441 non-null  object\n",
      " 4   customer_state            99441 non-null  object\n",
      "dtypes: int64(1), object(4)\n",
      "memory usage: 3.8+ MB\n"
     ]
    }
   ],
   "source": [
    "cust.info()"
   ]
  },
  {
   "cell_type": "markdown",
   "id": "e9c71e31-1815-4cab-86b7-196c6df0f0b9",
   "metadata": {},
   "source": [
    "### Mengecek nilai null pada setiap file csv dataset"
   ]
  },
  {
   "cell_type": "code",
   "execution_count": 4,
   "id": "0159a1b7-4f49-419c-a920-c67bf505d1c9",
   "metadata": {},
   "outputs": [
    {
     "data": {
      "text/plain": [
       "customer_id                 0\n",
       "customer_unique_id          0\n",
       "customer_zip_code_prefix    0\n",
       "customer_city               0\n",
       "customer_state              0\n",
       "dtype: int64"
      ]
     },
     "execution_count": 4,
     "metadata": {},
     "output_type": "execute_result"
    }
   ],
   "source": [
    "cust.isna().sum()"
   ]
  },
  {
   "cell_type": "code",
   "execution_count": 5,
   "id": "24a38313-d725-48ea-8c68-618075a06c8c",
   "metadata": {},
   "outputs": [
    {
     "data": {
      "text/plain": [
       "geolocation_zip_code_prefix    0\n",
       "geolocation_lat                0\n",
       "geolocation_lng                0\n",
       "geolocation_city               0\n",
       "geolocation_state              0\n",
       "dtype: int64"
      ]
     },
     "execution_count": 5,
     "metadata": {},
     "output_type": "execute_result"
    }
   ],
   "source": [
    "geo.isna().sum()"
   ]
  },
  {
   "cell_type": "code",
   "execution_count": 6,
   "id": "1ddc8a69-b31d-486d-9709-3d997ec0655d",
   "metadata": {},
   "outputs": [
    {
     "data": {
      "text/plain": [
       "order_id               0\n",
       "order_item_id          0\n",
       "product_id             0\n",
       "seller_id              0\n",
       "shipping_limit_date    0\n",
       "price                  0\n",
       "freight_value          0\n",
       "dtype: int64"
      ]
     },
     "execution_count": 6,
     "metadata": {},
     "output_type": "execute_result"
    }
   ],
   "source": [
    "item.isna().sum()"
   ]
  },
  {
   "cell_type": "code",
   "execution_count": 7,
   "id": "3c979bf7-ce27-4c21-b7d1-1538aba7000d",
   "metadata": {},
   "outputs": [
    {
     "data": {
      "text/plain": [
       "order_id                0\n",
       "payment_sequential      0\n",
       "payment_type            0\n",
       "payment_installments    0\n",
       "payment_value           0\n",
       "dtype: int64"
      ]
     },
     "execution_count": 7,
     "metadata": {},
     "output_type": "execute_result"
    }
   ],
   "source": [
    "payment.isna().sum()"
   ]
  },
  {
   "cell_type": "code",
   "execution_count": 8,
   "id": "c94aeaef-5b0b-400c-9541-213ef1c15fa3",
   "metadata": {},
   "outputs": [
    {
     "data": {
      "text/plain": [
       "order_id                0\n",
       "payment_sequential      0\n",
       "payment_type            0\n",
       "payment_installments    0\n",
       "payment_value           0\n",
       "dtype: int64"
      ]
     },
     "execution_count": 8,
     "metadata": {},
     "output_type": "execute_result"
    }
   ],
   "source": [
    "payment.isna().sum()"
   ]
  },
  {
   "cell_type": "code",
   "execution_count": 9,
   "id": "904f205a-67fc-42cd-a8af-963a3b808fc1",
   "metadata": {},
   "outputs": [
    {
     "data": {
      "text/plain": [
       "review_id                      0\n",
       "order_id                       0\n",
       "review_score                   0\n",
       "review_comment_title       87656\n",
       "review_comment_message     58247\n",
       "review_creation_date           0\n",
       "review_answer_timestamp        0\n",
       "dtype: int64"
      ]
     },
     "execution_count": 9,
     "metadata": {},
     "output_type": "execute_result"
    }
   ],
   "source": [
    "review.isna().sum()"
   ]
  },
  {
   "cell_type": "code",
   "execution_count": 10,
   "id": "7d0348ad-426a-4a23-bd9e-ec42cbb71b81",
   "metadata": {},
   "outputs": [
    {
     "data": {
      "text/plain": [
       "order_id                            0\n",
       "customer_id                         0\n",
       "order_status                        0\n",
       "order_purchase_timestamp            0\n",
       "order_approved_at                 160\n",
       "order_delivered_carrier_date     1783\n",
       "order_delivered_customer_date    2965\n",
       "order_estimated_delivery_date       0\n",
       "dtype: int64"
      ]
     },
     "execution_count": 10,
     "metadata": {},
     "output_type": "execute_result"
    }
   ],
   "source": [
    "order.isna().sum()"
   ]
  },
  {
   "cell_type": "code",
   "execution_count": 11,
   "id": "9ab37d6a-5b0b-49f5-996c-cb8099e05025",
   "metadata": {},
   "outputs": [
    {
     "data": {
      "text/plain": [
       "product_id                      0\n",
       "product_category_name         610\n",
       "product_name_lenght           610\n",
       "product_description_lenght    610\n",
       "product_photos_qty            610\n",
       "product_weight_g                2\n",
       "product_length_cm               2\n",
       "product_height_cm               2\n",
       "product_width_cm                2\n",
       "dtype: int64"
      ]
     },
     "execution_count": 11,
     "metadata": {},
     "output_type": "execute_result"
    }
   ],
   "source": [
    "product.isna().sum()"
   ]
  },
  {
   "cell_type": "code",
   "execution_count": 12,
   "id": "cd203567-5d13-4fe4-86ae-70f3b993ae7b",
   "metadata": {},
   "outputs": [
    {
     "data": {
      "text/plain": [
       "seller_id                 0\n",
       "seller_zip_code_prefix    0\n",
       "seller_city               0\n",
       "seller_state              0\n",
       "dtype: int64"
      ]
     },
     "execution_count": 12,
     "metadata": {},
     "output_type": "execute_result"
    }
   ],
   "source": [
    "seller.isna().sum()"
   ]
  },
  {
   "cell_type": "code",
   "execution_count": 13,
   "id": "c0a362ba-3206-4d22-b5ed-f39c10c4848b",
   "metadata": {},
   "outputs": [
    {
     "data": {
      "text/plain": [
       "product_category_name            0\n",
       "product_category_name_english    0\n",
       "dtype: int64"
      ]
     },
     "execution_count": 13,
     "metadata": {},
     "output_type": "execute_result"
    }
   ],
   "source": [
    "prodinfo.isna().sum()"
   ]
  },
  {
   "cell_type": "markdown",
   "id": "b7b1be24-fbd3-4bc4-9af1-a5e799aea615",
   "metadata": {},
   "source": [
    "### Mengetahui panjang baris dataset tiap file csv"
   ]
  },
  {
   "cell_type": "code",
   "execution_count": 14,
   "id": "de1344c3-4389-4618-9030-a97e1205e99c",
   "metadata": {},
   "outputs": [
    {
     "name": "stdout",
     "output_type": "stream",
     "text": [
      "panjang dataset customer 99441 baris\n",
      "panjang dataset geo 1000163 baris\n",
      "panjang dataset item 112650 baris\n",
      "panjang dataset payment 103886 baris\n",
      "panjang dataset review 99224 baris\n",
      "panjang dataset order 99441 baris\n",
      "panjang dataset product 32951 baris\n",
      "panjang dataset seller 3095 baris\n",
      "panjang dataset prodinfo 71 baris\n"
     ]
    }
   ],
   "source": [
    "print(f'panjang dataset customer {len(cust)} baris')\n",
    "print(f'panjang dataset geo {len(geo)} baris')\n",
    "print(f'panjang dataset item {len(item)} baris')\n",
    "print(f'panjang dataset payment {len(payment)} baris')\n",
    "print(f'panjang dataset review {len(review)} baris')\n",
    "print(f'panjang dataset order {len(order)} baris')\n",
    "print(f'panjang dataset product {len(product)} baris')\n",
    "print(f'panjang dataset seller {len(seller)} baris')\n",
    "print(f'panjang dataset prodinfo {len(prodinfo)} baris')"
   ]
  },
  {
   "cell_type": "markdown",
   "id": "fe3848a7-c464-4dc6-98da-70007752edb0",
   "metadata": {},
   "source": [
    "# Data Split\n",
    "\n",
    "Train/test split adalah salah satu metode yang dapat digunakan untuk mengevaluasi performa model machine learning. Metode evaluasi model ini membagi dataset menjadi dua bagian yakni bagian yang digunakan untuk training data dan untuk testing data."
   ]
  },
  {
   "cell_type": "markdown",
   "id": "53f41247-465d-411d-8212-f3db0674d370",
   "metadata": {},
   "source": [
    "#### Disini saya mencoba menggabungkan beberapa file csv dataset yang dimiliki dengan menggunakan 'merge'"
   ]
  },
  {
   "cell_type": "code",
   "execution_count": 15,
   "id": "3de6bfc8-9729-4862-9f41-1685de747fc5",
   "metadata": {},
   "outputs": [
    {
     "name": "stdout",
     "output_type": "stream",
     "text": [
      "<class 'pandas.core.frame.DataFrame'>\n",
      "Int64Index: 96461 entries, 0 to 99440\n",
      "Data columns (total 12 columns):\n",
      " #   Column                         Non-Null Count  Dtype \n",
      "---  ------                         --------------  ----- \n",
      " 0   customer_id                    96461 non-null  object\n",
      " 1   customer_unique_id             96461 non-null  object\n",
      " 2   customer_zip_code_prefix       96461 non-null  int64 \n",
      " 3   customer_city                  96461 non-null  object\n",
      " 4   customer_state                 96461 non-null  object\n",
      " 5   order_id                       96461 non-null  object\n",
      " 6   order_status                   96461 non-null  object\n",
      " 7   order_purchase_timestamp       96461 non-null  object\n",
      " 8   order_approved_at              96461 non-null  object\n",
      " 9   order_delivered_carrier_date   96461 non-null  object\n",
      " 10  order_delivered_customer_date  96461 non-null  object\n",
      " 11  order_estimated_delivery_date  96461 non-null  object\n",
      "dtypes: int64(1), object(11)\n",
      "memory usage: 9.6+ MB\n"
     ]
    }
   ],
   "source": [
    "cust_order = pd.merge(cust,order,on='customer_id',how='inner')\n",
    "cust_order.dropna(axis=0,inplace=True)\n",
    "cust_order.info()"
   ]
  },
  {
   "cell_type": "code",
   "execution_count": 16,
   "id": "98cf2ddd-9ddc-499a-8adf-662a5a6d11bb",
   "metadata": {},
   "outputs": [
    {
     "name": "stdout",
     "output_type": "stream",
     "text": [
      "<class 'pandas.core.frame.DataFrame'>\n",
      "Int64Index: 100739 entries, 0 to 100738\n",
      "Data columns (total 16 columns):\n",
      " #   Column                         Non-Null Count   Dtype  \n",
      "---  ------                         --------------   -----  \n",
      " 0   customer_id                    100739 non-null  object \n",
      " 1   customer_unique_id             100739 non-null  object \n",
      " 2   customer_zip_code_prefix       100739 non-null  int64  \n",
      " 3   customer_city                  100739 non-null  object \n",
      " 4   customer_state                 100739 non-null  object \n",
      " 5   order_id                       100739 non-null  object \n",
      " 6   order_status                   100739 non-null  object \n",
      " 7   order_purchase_timestamp       100739 non-null  object \n",
      " 8   order_approved_at              100739 non-null  object \n",
      " 9   order_delivered_carrier_date   100739 non-null  object \n",
      " 10  order_delivered_customer_date  100739 non-null  object \n",
      " 11  order_estimated_delivery_date  100739 non-null  object \n",
      " 12  payment_sequential             100739 non-null  int64  \n",
      " 13  payment_type                   100739 non-null  object \n",
      " 14  payment_installments           100739 non-null  int64  \n",
      " 15  payment_value                  100739 non-null  float64\n",
      "dtypes: float64(1), int64(3), object(12)\n",
      "memory usage: 13.1+ MB\n"
     ]
    }
   ],
   "source": [
    "cust_order_pay = pd.merge(cust_order, payment ,on='order_id',how='inner')\n",
    "cust_order_pay.dropna(axis=0,inplace=True)\n",
    "cust_order_pay.info()"
   ]
  },
  {
   "cell_type": "markdown",
   "id": "e196e026-bcc5-4b74-a3eb-500785a32add",
   "metadata": {},
   "source": [
    "### Mengetahui jumlah panjang dataset training dan testing dengan perbandingan 70:30"
   ]
  },
  {
   "cell_type": "code",
   "execution_count": 17,
   "id": "b54ce593-06ca-4aac-ac9a-6ada76d9200f",
   "metadata": {},
   "outputs": [
    {
     "name": "stdout",
     "output_type": "stream",
     "text": [
      "Panjang data training 70517\n",
      "Panjang label training 70517\n",
      "Panjang data testing 30222\n",
      "Panjang label testing 30222\n"
     ]
    }
   ],
   "source": [
    "data = cust_order_pay[['payment_sequential']]\n",
    "label = cust_order_pay['customer_state']\n",
    "\n",
    "data_train, data_test, label_train, label_test = train_test_split(data, label, test_size=.3)\n",
    "\n",
    "print(f'Panjang data training {len(data_train)}',\n",
    "     f'Panjang label training {len(label_train)}',\n",
    "     f'Panjang data testing {len(data_test)}',\n",
    "     f'Panjang label testing {len(label_test)}',\n",
    "     sep='\\n')"
   ]
  },
  {
   "cell_type": "markdown",
   "id": "daca825a-0ae7-4829-88cf-e5e42594e9be",
   "metadata": {},
   "source": [
    "# Data Transformasi\n",
    "\n",
    "Transformasi data adalah merubah skala data kedalam bentuk lain sehingga data memiliki distribusi yang diharapkan.Scaling adalah suatu cara untuk membuat numerical data pada dataset memiliki rentang nilai (scale) yang sama. Tidak ada lagi satu variabel data yang mendominasi variabel data lainnya.Teknik penskalaan yang biasa dipakai yaitu normalisasi dan standardisasi"
   ]
  },
  {
   "cell_type": "code",
   "execution_count": 18,
   "id": "47d5dc4c-4f6c-4d26-a043-d8edabcbadfa",
   "metadata": {},
   "outputs": [
    {
     "name": "stdout",
     "output_type": "stream",
     "text": [
      "<class 'pandas.core.frame.DataFrame'>\n",
      "Int64Index: 10222 entries, 0 to 103666\n",
      "Data columns (total 11 columns):\n",
      " #   Column                   Non-Null Count  Dtype  \n",
      "---  ------                   --------------  -----  \n",
      " 0   order_id                 10222 non-null  object \n",
      " 1   payment_sequential       10222 non-null  int64  \n",
      " 2   payment_type             10222 non-null  object \n",
      " 3   payment_installments     10222 non-null  int64  \n",
      " 4   payment_value            10222 non-null  float64\n",
      " 5   review_id                10222 non-null  object \n",
      " 6   review_score             10222 non-null  int64  \n",
      " 7   review_comment_title     10222 non-null  object \n",
      " 8   review_comment_message   10222 non-null  object \n",
      " 9   review_creation_date     10222 non-null  object \n",
      " 10  review_answer_timestamp  10222 non-null  object \n",
      "dtypes: float64(1), int64(3), object(7)\n",
      "memory usage: 958.3+ KB\n"
     ]
    }
   ],
   "source": [
    "pay_review = pd.merge(payment, review, on='order_id',how='inner')\n",
    "pay_review.dropna(axis=0,inplace=True)\n",
    "pay_review.info()"
   ]
  },
  {
   "cell_type": "markdown",
   "id": "dfbd2fff-023c-4bfc-9858-d169c15f1d30",
   "metadata": {},
   "source": [
    "#### Membuat file copyan untuk mencoba transforming data"
   ]
  },
  {
   "cell_type": "code",
   "execution_count": 50,
   "id": "65bb5123-9ce5-4005-afc0-d28b1702c3e3",
   "metadata": {},
   "outputs": [],
   "source": [
    "data_norm = pay_review.copy()"
   ]
  },
  {
   "cell_type": "markdown",
   "id": "30f79712-b6d7-4122-b94f-c8c1359663e9",
   "metadata": {},
   "source": [
    "## Normalisasi\n",
    "\n",
    "Normalisasi adalah proses penskalaan data menjadi rentang [0, 1]."
   ]
  },
  {
   "cell_type": "code",
   "execution_count": 20,
   "id": "2cc2e3f9-be53-4ce3-9282-e920c580bbdd",
   "metadata": {},
   "outputs": [
    {
     "data": {
      "text/html": [
       "<div>\n",
       "<style scoped>\n",
       "    .dataframe tbody tr th:only-of-type {\n",
       "        vertical-align: middle;\n",
       "    }\n",
       "\n",
       "    .dataframe tbody tr th {\n",
       "        vertical-align: top;\n",
       "    }\n",
       "\n",
       "    .dataframe thead th {\n",
       "        text-align: right;\n",
       "    }\n",
       "</style>\n",
       "<table border=\"1\" class=\"dataframe\">\n",
       "  <thead>\n",
       "    <tr style=\"text-align: right;\">\n",
       "      <th></th>\n",
       "      <th>payment_sequential</th>\n",
       "      <th>payment_installments</th>\n",
       "      <th>review_score</th>\n",
       "    </tr>\n",
       "  </thead>\n",
       "  <tbody>\n",
       "    <tr>\n",
       "      <th>0</th>\n",
       "      <td>0.0</td>\n",
       "      <td>0.368421</td>\n",
       "      <td>0.00</td>\n",
       "    </tr>\n",
       "    <tr>\n",
       "      <th>1</th>\n",
       "      <td>0.0</td>\n",
       "      <td>0.052632</td>\n",
       "      <td>1.00</td>\n",
       "    </tr>\n",
       "    <tr>\n",
       "      <th>2</th>\n",
       "      <td>0.0</td>\n",
       "      <td>0.263158</td>\n",
       "      <td>1.00</td>\n",
       "    </tr>\n",
       "    <tr>\n",
       "      <th>3</th>\n",
       "      <td>0.0</td>\n",
       "      <td>0.000000</td>\n",
       "      <td>0.25</td>\n",
       "    </tr>\n",
       "    <tr>\n",
       "      <th>4</th>\n",
       "      <td>0.0</td>\n",
       "      <td>0.000000</td>\n",
       "      <td>1.00</td>\n",
       "    </tr>\n",
       "  </tbody>\n",
       "</table>\n",
       "</div>"
      ],
      "text/plain": [
       "   payment_sequential  payment_installments  review_score\n",
       "0                 0.0              0.368421          0.00\n",
       "1                 0.0              0.052632          1.00\n",
       "2                 0.0              0.263158          1.00\n",
       "3                 0.0              0.000000          0.25\n",
       "4                 0.0              0.000000          1.00"
      ]
     },
     "execution_count": 20,
     "metadata": {},
     "output_type": "execute_result"
    }
   ],
   "source": [
    "scaler = MinMaxScaler()\n",
    "\n",
    "normalize_data = scaler.fit_transform(data_norm[['payment_sequential', 'payment_installments', 'review_score']])\n",
    "\n",
    "normalize_data = pd.DataFrame(normalize_data)\n",
    "normalize_data.rename(columns={ 0 :'payment_sequential', 1 : 'payment_installments', 2 : 'review_score'}, inplace=True)\n",
    "\n",
    "normalize_data.head(5)"
   ]
  },
  {
   "cell_type": "markdown",
   "id": "691cd20a-c8d0-41a2-b7ba-bedbb8031abc",
   "metadata": {},
   "source": [
    "## Standarisasi\n",
    "\n",
    "Standardisasi adalah proses penskalaan data sehingga memiliki nilai rata-rata 0 dan standar deviasi 1."
   ]
  },
  {
   "cell_type": "code",
   "execution_count": 37,
   "id": "23a5c643-24ea-47f7-8d88-6e530f0a45bf",
   "metadata": {},
   "outputs": [
    {
     "name": "stdout",
     "output_type": "stream",
     "text": [
      "<class 'pandas.core.frame.DataFrame'>\n",
      "RangeIndex: 32951 entries, 0 to 32950\n",
      "Data columns (total 9 columns):\n",
      " #   Column                      Non-Null Count  Dtype  \n",
      "---  ------                      --------------  -----  \n",
      " 0   product_id                  32951 non-null  object \n",
      " 1   product_category_name       32341 non-null  object \n",
      " 2   product_name_lenght         32341 non-null  float64\n",
      " 3   product_description_lenght  32341 non-null  float64\n",
      " 4   product_photos_qty          32341 non-null  float64\n",
      " 5   product_weight_g            32949 non-null  float64\n",
      " 6   product_length_cm           32949 non-null  float64\n",
      " 7   product_height_cm           32949 non-null  float64\n",
      " 8   product_width_cm            32949 non-null  float64\n",
      "dtypes: float64(7), object(2)\n",
      "memory usage: 2.3+ MB\n"
     ]
    }
   ],
   "source": [
    "product.info()"
   ]
  },
  {
   "cell_type": "code",
   "execution_count": 51,
   "id": "d7e88c4a-c658-42d8-b291-bc0e7ac25a94",
   "metadata": {},
   "outputs": [],
   "source": [
    "data_stand = product.copy()"
   ]
  },
  {
   "cell_type": "code",
   "execution_count": 52,
   "id": "841796ea-13c4-420a-aad7-6569d71d2ede",
   "metadata": {},
   "outputs": [],
   "source": [
    "# data_stand_pembanding = product.copy()\n",
    "# data_stand.drop('product_id',axis = 1, inplace = True)\n",
    "# data_stand.drop('product_category_name', axis = 1, inplace = True)\n",
    "\n",
    "# standart_std = StandardScaler()\n",
    "\n",
    "# scaled_data = standart_std.fit_transform(data_stand)\n",
    "\n",
    "# data_stand_pembanding.drop('product_id', axis = 1, inplace = True)\n",
    "# data_stand_pembanding.drop('product_category_name', axis = 1, inplace = True)\n",
    "\n",
    "# print('Dataset sebelum scalling:',  # SEBELUM\n",
    "#       data_stand_pembanding.head(6),\n",
    "#       f'Nilai standar deviasi:\\n{np.std(data_stand_pembanding)}',\n",
    "#       sep='\\n', end='\\n\\n')\n",
    "\n",
    "# print('Dataset setelah scalling:',  # SESUDAH\n",
    "#       scaled_data[:6],\n",
    "#       f'Nilai standar deviasi: {np.std(scaled_data)}',\n",
    "#       sep='\\n')\n",
    "\n",
    "data_stand.drop('product_id',axis = 1, inplace = True)\n",
    "data_stand.drop('product_category_name', axis = 1, inplace = True)"
   ]
  },
  {
   "cell_type": "code",
   "execution_count": 46,
   "id": "e0c44b90-6efc-423b-9185-b30124aaa966",
   "metadata": {},
   "outputs": [],
   "source": [
    "standart_std = StandardScaler()\n",
    "\n",
    "scaled_data = standart_std.fit_transform(data_stand)"
   ]
  },
  {
   "cell_type": "code",
   "execution_count": 48,
   "id": "ae15fbda-5cad-4583-a287-97155a3b4444",
   "metadata": {},
   "outputs": [],
   "source": [
    "data_stand_pembanding = product.copy()\n",
    "data_stand_pembanding.drop('product_id', axis = 1, inplace = True)\n",
    "data_stand_pembanding.drop('product_category_name', axis = 1, inplace = True)"
   ]
  },
  {
   "cell_type": "code",
   "execution_count": 49,
   "id": "e2e3ce6d-ac4e-41b0-9123-be5e611be3a7",
   "metadata": {},
   "outputs": [
    {
     "name": "stdout",
     "output_type": "stream",
     "text": [
      "Dataset sebelum scalling:\n",
      "   product_name_lenght  product_description_lenght  product_photos_qty  \\\n",
      "0                 40.0                       287.0                 1.0   \n",
      "1                 44.0                       276.0                 1.0   \n",
      "2                 46.0                       250.0                 1.0   \n",
      "3                 27.0                       261.0                 1.0   \n",
      "4                 37.0                       402.0                 4.0   \n",
      "5                 60.0                       745.0                 1.0   \n",
      "\n",
      "   product_weight_g  product_length_cm  product_height_cm  product_width_cm  \n",
      "0             225.0               16.0               10.0              14.0  \n",
      "1            1000.0               30.0               18.0              20.0  \n",
      "2             154.0               18.0                9.0              15.0  \n",
      "3             371.0               26.0                4.0              26.0  \n",
      "4             625.0               20.0               17.0              13.0  \n",
      "5             200.0               38.0                5.0              11.0  \n",
      "Nilai standar deviasi:\n",
      "product_name_lenght             10.245582\n",
      "product_description_lenght     635.105406\n",
      "product_photos_qty               1.736739\n",
      "product_weight_g              4281.973751\n",
      "product_length_cm               16.914201\n",
      "product_height_cm               13.637347\n",
      "product_width_cm                12.078864\n",
      "dtype: float64\n",
      "\n",
      "Dataset setelah scalling:\n",
      "[[-0.82737598 -0.76285807 -0.68460849 -0.47909506 -0.87589579 -0.50872513\n",
      "  -0.76139016]\n",
      " [-0.43696382 -0.78017803 -0.68460849 -0.29810376 -0.04818896  0.07789922\n",
      "  -0.26465471]\n",
      " [-0.24175773 -0.82111612 -0.68460849 -0.4956762  -0.75765196 -0.58205318\n",
      "  -0.67860092]\n",
      " [-2.09621553 -0.80379616 -0.68460849 -0.44499864 -0.28467663 -0.9486934\n",
      "   0.23208074]\n",
      " [-1.12018511 -0.58178577  1.04276699 -0.3856802  -0.63940813  0.00457118\n",
      "  -0.8441794 ]\n",
      " [ 1.12468485 -0.04171793 -0.68460849 -0.48493349  0.42478637 -0.87536536\n",
      "  -1.00975788]]\n",
      "Nilai standar deviasi: nan\n"
     ]
    }
   ],
   "source": [
    "print('Dataset sebelum scalling:',  # SEBELUM\n",
    "      data_stand_pembanding.head(6),\n",
    "      f'Nilai standar deviasi:\\n{np.std(data_stand_pembanding)}',\n",
    "      sep='\\n', end='\\n\\n')\n",
    "\n",
    "print('Dataset setelah scalling:',  # SESUDAH\n",
    "      scaled_data[:6],\n",
    "      f'Nilai standar deviasi: {np.std(scaled_data)}',\n",
    "      sep='\\n')"
   ]
  },
  {
   "cell_type": "code",
   "execution_count": 24,
   "id": "7e0a047d-a866-45fd-b577-45fad140060c",
   "metadata": {},
   "outputs": [
    {
     "name": "stdout",
     "output_type": "stream",
     "text": [
      "<class 'pandas.core.frame.DataFrame'>\n",
      "RangeIndex: 32951 entries, 0 to 32950\n",
      "Data columns (total 9 columns):\n",
      " #   Column                      Non-Null Count  Dtype  \n",
      "---  ------                      --------------  -----  \n",
      " 0   product_id                  32951 non-null  object \n",
      " 1   product_category_name       32341 non-null  object \n",
      " 2   product_name_lenght         32341 non-null  float64\n",
      " 3   product_description_lenght  32341 non-null  float64\n",
      " 4   product_photos_qty          32341 non-null  float64\n",
      " 5   product_weight_g            32949 non-null  float64\n",
      " 6   product_length_cm           32949 non-null  float64\n",
      " 7   product_height_cm           32949 non-null  float64\n",
      " 8   product_width_cm            32949 non-null  float64\n",
      "dtypes: float64(7), object(2)\n",
      "memory usage: 2.3+ MB\n"
     ]
    }
   ],
   "source": [
    "product.info()"
   ]
  },
  {
   "cell_type": "markdown",
   "id": "ce901217-9756-4e34-80c9-3d4a0841d651",
   "metadata": {},
   "source": [
    "# Data cleaning\n",
    "\n",
    "Data yang kita gunakan bisa jadi sangat berantakan. Ada informasi yang tak lengkap, ada pula format yang berbeda-beda.Semua ini tentu membuat data itu sulit diolah. Pada akhirnya, ia jadi tak bisa dimanfaatkan. Untuk itulah kita harus melakukan data cleaning terlebih dahulu. Data cleaning adalah memperbarui, membetulkan, dan membuat data menjadi lebih rapi. Beberapa model machine learning tidak dapat bekerja dengan data yang masih berantakan. Kesalahan dalam data dapat berupa:\n",
    "\n",
    "1. Terdapat nilai data yang tidak valid (Null)\n",
    "2. Data dalam format yang salah\n",
    "3. Terdapat duplikat"
   ]
  },
  {
   "cell_type": "code",
   "execution_count": 53,
   "id": "84d5ba49-11e0-4cd0-96f4-1cbd745ff5e9",
   "metadata": {},
   "outputs": [
    {
     "data": {
      "text/plain": [
       "product_id                      0\n",
       "product_category_name         610\n",
       "product_name_lenght           610\n",
       "product_description_lenght    610\n",
       "product_photos_qty            610\n",
       "product_weight_g                2\n",
       "product_length_cm               2\n",
       "product_height_cm               2\n",
       "product_width_cm                2\n",
       "dtype: int64"
      ]
     },
     "execution_count": 53,
     "metadata": {},
     "output_type": "execute_result"
    }
   ],
   "source": [
    "product.isna().sum()"
   ]
  },
  {
   "cell_type": "markdown",
   "id": "165e26d7-0bb5-42a5-bac4-409d0ca15043",
   "metadata": {},
   "source": [
    "Dari data diatas dapat dilihat bahwa terdapat banyak nilai null pada beberapa atribut."
   ]
  },
  {
   "cell_type": "code",
   "execution_count": 54,
   "id": "b58bb52b-6b51-45c0-a698-17d8c2571a0a",
   "metadata": {},
   "outputs": [],
   "source": [
    "dc_product = product.copy()\n",
    "dc_review = review.copy()"
   ]
  },
  {
   "cell_type": "code",
   "execution_count": 55,
   "id": "63efff25-a458-4e52-80e7-66eda55ddea8",
   "metadata": {},
   "outputs": [],
   "source": [
    "# deklarasi kelas simpleImputer\n",
    "imputer_mean = SimpleImputer(strategy='mean')\n",
    "imputer_median = SimpleImputer(strategy='median')\n",
    "imputer_modus = SimpleImputer(strategy='most_frequent')"
   ]
  },
  {
   "cell_type": "markdown",
   "id": "c2fd0824-404e-4876-acb9-2433b4b61102",
   "metadata": {},
   "source": [
    "## Mengganti semua nilai null dengan nilai mean, median, dan modus"
   ]
  },
  {
   "cell_type": "code",
   "execution_count": 56,
   "id": "1607209e-a490-48ee-8a69-7083313ded17",
   "metadata": {},
   "outputs": [],
   "source": [
    "dc_product['product_category_name'] = imputer_modus.fit_transform(dc_product[['product_category_name']])\n",
    "dc_product['product_name_lenght'] = imputer_mean.fit_transform(dc_product[['product_name_lenght']])\n",
    "dc_product['product_description_lenght'] = imputer_median.fit_transform(dc_product[['product_description_lenght']])\n",
    "dc_product['product_photos_qty'] = imputer_modus.fit_transform(dc_product[['product_photos_qty']])\n",
    "dc_product['product_weight_g'] = imputer_mean.fit_transform(dc_product[['product_weight_g']])\n",
    "dc_product['product_length_cm'] = imputer_median.fit_transform(dc_product[['product_length_cm']])\n",
    "dc_product['product_height_cm'] = imputer_modus.fit_transform(dc_product[['product_height_cm']])\n",
    "dc_product['product_width_cm'] = imputer_mean.fit_transform(dc_product[['product_width_cm']])"
   ]
  },
  {
   "cell_type": "code",
   "execution_count": 57,
   "id": "5cdd6284-bb65-463d-a878-c21cdc4f26c3",
   "metadata": {},
   "outputs": [
    {
     "data": {
      "text/plain": [
       "product_id                    0\n",
       "product_category_name         0\n",
       "product_name_lenght           0\n",
       "product_description_lenght    0\n",
       "product_photos_qty            0\n",
       "product_weight_g              0\n",
       "product_length_cm             0\n",
       "product_height_cm             0\n",
       "product_width_cm              0\n",
       "dtype: int64"
      ]
     },
     "execution_count": 57,
     "metadata": {},
     "output_type": "execute_result"
    }
   ],
   "source": [
    "dc_product.isna().sum()"
   ]
  },
  {
   "cell_type": "markdown",
   "id": "e04613e0-b85b-4f7f-9fd2-a6b9c6757c8f",
   "metadata": {},
   "source": [
    "Setelah di cek lagi, semua nilai null sudah tidak ada karena telah diganti dengan nilai mean, median, dan modus diatas tadi"
   ]
  },
  {
   "cell_type": "markdown",
   "id": "91842eee-7987-4dd0-8951-d751a8955f7d",
   "metadata": {},
   "source": [
    "## Data Duplikat"
   ]
  },
  {
   "cell_type": "code",
   "execution_count": 58,
   "id": "8587ad93-f2fc-4860-a1b2-7a92adb5c541",
   "metadata": {},
   "outputs": [
    {
     "data": {
      "text/plain": [
       "261831"
      ]
     },
     "execution_count": 58,
     "metadata": {},
     "output_type": "execute_result"
    }
   ],
   "source": [
    "dc_geo = geo.copy()\n",
    "\n",
    "dc_geo.duplicated().sum()"
   ]
  },
  {
   "cell_type": "markdown",
   "id": "61e33e04-00a0-4e66-a450-4350cd42a231",
   "metadata": {},
   "source": [
    "Jumlah data duplikat sebesar 261831"
   ]
  },
  {
   "cell_type": "code",
   "execution_count": 59,
   "id": "2de1bbae-af33-416b-972b-aee9cc4e4e17",
   "metadata": {},
   "outputs": [
    {
     "data": {
      "text/plain": [
       "1000163"
      ]
     },
     "execution_count": 59,
     "metadata": {},
     "output_type": "execute_result"
    }
   ],
   "source": [
    "len(dc_geo)"
   ]
  },
  {
   "cell_type": "markdown",
   "id": "d947bd05-f383-476a-be18-b58f5067e81c",
   "metadata": {},
   "source": [
    "Jumlah baris dataset 1000163"
   ]
  },
  {
   "cell_type": "code",
   "execution_count": 60,
   "id": "4785040a-6d48-422e-acc5-2dc87c3d438b",
   "metadata": {},
   "outputs": [
    {
     "data": {
      "text/plain": [
       "0"
      ]
     },
     "execution_count": 60,
     "metadata": {},
     "output_type": "execute_result"
    }
   ],
   "source": [
    "dc_geo.drop_duplicates(inplace=True)\n",
    "\n",
    "dc_geo.duplicated().sum()"
   ]
  },
  {
   "cell_type": "markdown",
   "id": "530d814b-9628-40d7-9f1f-b32eba3fd2a7",
   "metadata": {},
   "source": [
    "Data duplikat 0 karena telah dihapus menggunakan fungsi drop"
   ]
  },
  {
   "cell_type": "code",
   "execution_count": 61,
   "id": "6309fe5c-c12d-4da3-be5d-ca011f64e28e",
   "metadata": {},
   "outputs": [
    {
     "data": {
      "text/plain": [
       "738332"
      ]
     },
     "execution_count": 61,
     "metadata": {},
     "output_type": "execute_result"
    }
   ],
   "source": [
    "len(dc_geo)"
   ]
  },
  {
   "cell_type": "markdown",
   "id": "be2bce14-03e0-46ac-972c-056d8e839939",
   "metadata": {},
   "source": [
    "Sisa jumlah baris setelah data duplikat dihapus adalah 738332"
   ]
  },
  {
   "cell_type": "markdown",
   "id": "dad79df8-e973-4310-93b3-cb25ba8ff2c4",
   "metadata": {},
   "source": [
    "# Encoding\n",
    "\n",
    "Encoding adalah salah tahap pre-processing ketika kita menghadapi data yang bersifat kategorikal. Encoding adalah teknik yang mengubah variabel kategorikal menjadi variabel numerik, model dalam machine learning membutuhkan input yang bertipe numerik sehingga sangat penting bagi kita untuk melakukan encoding jika terdapat variabel yang bertipe kategorikal didalam data kita. Teknik encoding yang paling terkenal adalah Ordinal Encoding dan One-Hot Encoding"
   ]
  },
  {
   "cell_type": "code",
   "execution_count": 62,
   "id": "ac3a5586-efc6-4dde-99b8-4fdbca830ec1",
   "metadata": {},
   "outputs": [],
   "source": [
    "en_cust = cust.copy()\n",
    "one_hot = cust.copy()"
   ]
  },
  {
   "cell_type": "markdown",
   "id": "b8c5b8df-b0ff-4835-9b1a-98824e8f2275",
   "metadata": {},
   "source": [
    "## Ordinal\n",
    "\n",
    "Setiap nilai kategori yang unik akan diubah menjadi nilai integer."
   ]
  },
  {
   "cell_type": "code",
   "execution_count": 63,
   "id": "3c5ec5a4-b0f9-4a4d-8e04-64401bfe826f",
   "metadata": {},
   "outputs": [
    {
     "data": {
      "text/plain": [
       "array(['SP', 'SC', 'MG', 'PR', 'RJ', 'RS', 'PA', 'GO', 'ES', 'BA', 'MA',\n",
       "       'MS', 'CE', 'DF', 'RN', 'PE', 'MT', 'AM', 'AP', 'AL', 'RO', 'PB',\n",
       "       'TO', 'PI', 'AC', 'SE', 'RR'], dtype=object)"
      ]
     },
     "execution_count": 63,
     "metadata": {},
     "output_type": "execute_result"
    }
   ],
   "source": [
    "cust['customer_state'].unique()"
   ]
  },
  {
   "cell_type": "markdown",
   "id": "246597ed-7e45-404c-8855-b468e1b62c95",
   "metadata": {},
   "source": [
    "Nilai kategori unik yang aslinya ialah inisial nama negara"
   ]
  },
  {
   "cell_type": "code",
   "execution_count": 64,
   "id": "bb0ef752-b5cf-4790-a5b3-dd13a34929aa",
   "metadata": {},
   "outputs": [
    {
     "data": {
      "text/html": [
       "<div>\n",
       "<style scoped>\n",
       "    .dataframe tbody tr th:only-of-type {\n",
       "        vertical-align: middle;\n",
       "    }\n",
       "\n",
       "    .dataframe tbody tr th {\n",
       "        vertical-align: top;\n",
       "    }\n",
       "\n",
       "    .dataframe thead th {\n",
       "        text-align: right;\n",
       "    }\n",
       "</style>\n",
       "<table border=\"1\" class=\"dataframe\">\n",
       "  <thead>\n",
       "    <tr style=\"text-align: right;\">\n",
       "      <th></th>\n",
       "      <th>customer_id</th>\n",
       "      <th>customer_unique_id</th>\n",
       "      <th>customer_zip_code_prefix</th>\n",
       "      <th>customer_city</th>\n",
       "      <th>customer_state</th>\n",
       "    </tr>\n",
       "  </thead>\n",
       "  <tbody>\n",
       "    <tr>\n",
       "      <th>0</th>\n",
       "      <td>06b8999e2fba1a1fbc88172c00ba8bc7</td>\n",
       "      <td>861eff4711a542e4b93843c6dd7febb0</td>\n",
       "      <td>14409</td>\n",
       "      <td>franca</td>\n",
       "      <td>25</td>\n",
       "    </tr>\n",
       "    <tr>\n",
       "      <th>1</th>\n",
       "      <td>18955e83d337fd6b2def6b18a428ac77</td>\n",
       "      <td>290c77bc529b7ac935b93aa66c333dc3</td>\n",
       "      <td>9790</td>\n",
       "      <td>sao bernardo do campo</td>\n",
       "      <td>25</td>\n",
       "    </tr>\n",
       "    <tr>\n",
       "      <th>2</th>\n",
       "      <td>4e7b3e00288586ebd08712fdd0374a03</td>\n",
       "      <td>060e732b5b29e8181a18229c7b0b2b5e</td>\n",
       "      <td>1151</td>\n",
       "      <td>sao paulo</td>\n",
       "      <td>25</td>\n",
       "    </tr>\n",
       "    <tr>\n",
       "      <th>3</th>\n",
       "      <td>b2b6027bc5c5109e529d4dc6358b12c3</td>\n",
       "      <td>259dac757896d24d7702b9acbbff3f3c</td>\n",
       "      <td>8775</td>\n",
       "      <td>mogi das cruzes</td>\n",
       "      <td>25</td>\n",
       "    </tr>\n",
       "    <tr>\n",
       "      <th>4</th>\n",
       "      <td>4f2d8ab171c80ec8364f7c12e35b23ad</td>\n",
       "      <td>345ecd01c38d18a9036ed96c73b8d066</td>\n",
       "      <td>13056</td>\n",
       "      <td>campinas</td>\n",
       "      <td>25</td>\n",
       "    </tr>\n",
       "  </tbody>\n",
       "</table>\n",
       "</div>"
      ],
      "text/plain": [
       "                        customer_id                customer_unique_id  \\\n",
       "0  06b8999e2fba1a1fbc88172c00ba8bc7  861eff4711a542e4b93843c6dd7febb0   \n",
       "1  18955e83d337fd6b2def6b18a428ac77  290c77bc529b7ac935b93aa66c333dc3   \n",
       "2  4e7b3e00288586ebd08712fdd0374a03  060e732b5b29e8181a18229c7b0b2b5e   \n",
       "3  b2b6027bc5c5109e529d4dc6358b12c3  259dac757896d24d7702b9acbbff3f3c   \n",
       "4  4f2d8ab171c80ec8364f7c12e35b23ad  345ecd01c38d18a9036ed96c73b8d066   \n",
       "\n",
       "   customer_zip_code_prefix          customer_city  customer_state  \n",
       "0                     14409                 franca              25  \n",
       "1                      9790  sao bernardo do campo              25  \n",
       "2                      1151              sao paulo              25  \n",
       "3                      8775        mogi das cruzes              25  \n",
       "4                     13056               campinas              25  "
      ]
     },
     "execution_count": 64,
     "metadata": {},
     "output_type": "execute_result"
    }
   ],
   "source": [
    "encoder_ordinal =OrdinalEncoder()\n",
    "\n",
    "#encoding kan\n",
    "en_cust['customer_state'] = encoder_ordinal.fit_transform(en_cust[['customer_state']]).astype('int64')\n",
    "\n",
    "en_cust.head()"
   ]
  },
  {
   "cell_type": "code",
   "execution_count": 65,
   "id": "57a9d471-3ada-4eb5-af71-dd48980eb76b",
   "metadata": {},
   "outputs": [
    {
     "data": {
      "text/plain": [
       "array([25, 23, 10, 17, 18, 22, 13,  8,  7,  4,  9, 11,  5,  6, 19, 15, 12,\n",
       "        2,  3,  1, 20, 14, 26, 16,  0, 24, 21], dtype=int64)"
      ]
     },
     "execution_count": 65,
     "metadata": {},
     "output_type": "execute_result"
    }
   ],
   "source": [
    "en_cust['customer_state'].unique()"
   ]
  },
  {
   "cell_type": "markdown",
   "id": "48a18601-c25c-413a-ac97-a1c1a9fc2cb4",
   "metadata": {},
   "source": [
    "Dapat kita lihat kembali seluruh nilai kategori unik telah menjadi angka dari 0 - 26"
   ]
  },
  {
   "cell_type": "markdown",
   "id": "b9a5a032-c68e-4b53-9205-a9fa7c07d3e0",
   "metadata": {},
   "source": [
    "## One-hot\n",
    "\n",
    "Metode ini merepresentasikan data bertipe kategori sebagai vektor biner yang bernilai integer, 0 dan 1, dimana semua elemen akan bernilai 0 kecuali satu elemen yang bernilai 1, yaitu elemen yang memiliki nilai kategori tersebut."
   ]
  },
  {
   "cell_type": "code",
   "execution_count": 66,
   "id": "18ffa879-d402-4978-bc73-362b573e6fcd",
   "metadata": {},
   "outputs": [
    {
     "data": {
      "text/html": [
       "<div>\n",
       "<style scoped>\n",
       "    .dataframe tbody tr th:only-of-type {\n",
       "        vertical-align: middle;\n",
       "    }\n",
       "\n",
       "    .dataframe tbody tr th {\n",
       "        vertical-align: top;\n",
       "    }\n",
       "\n",
       "    .dataframe thead th {\n",
       "        text-align: right;\n",
       "    }\n",
       "</style>\n",
       "<table border=\"1\" class=\"dataframe\">\n",
       "  <thead>\n",
       "    <tr style=\"text-align: right;\">\n",
       "      <th></th>\n",
       "      <th>customer_id</th>\n",
       "      <th>customer_unique_id</th>\n",
       "      <th>customer_zip_code_prefix</th>\n",
       "      <th>customer_city</th>\n",
       "      <th>customer_state</th>\n",
       "      <th>customer_state_AC</th>\n",
       "      <th>customer_state_AL</th>\n",
       "      <th>customer_state_AM</th>\n",
       "      <th>customer_state_AP</th>\n",
       "      <th>customer_state_BA</th>\n",
       "      <th>...</th>\n",
       "      <th>customer_state_PR</th>\n",
       "      <th>customer_state_RJ</th>\n",
       "      <th>customer_state_RN</th>\n",
       "      <th>customer_state_RO</th>\n",
       "      <th>customer_state_RR</th>\n",
       "      <th>customer_state_RS</th>\n",
       "      <th>customer_state_SC</th>\n",
       "      <th>customer_state_SE</th>\n",
       "      <th>customer_state_SP</th>\n",
       "      <th>customer_state_TO</th>\n",
       "    </tr>\n",
       "  </thead>\n",
       "  <tbody>\n",
       "    <tr>\n",
       "      <th>0</th>\n",
       "      <td>06b8999e2fba1a1fbc88172c00ba8bc7</td>\n",
       "      <td>861eff4711a542e4b93843c6dd7febb0</td>\n",
       "      <td>14409</td>\n",
       "      <td>franca</td>\n",
       "      <td>25</td>\n",
       "      <td>0</td>\n",
       "      <td>0</td>\n",
       "      <td>0</td>\n",
       "      <td>0</td>\n",
       "      <td>0</td>\n",
       "      <td>...</td>\n",
       "      <td>0</td>\n",
       "      <td>0</td>\n",
       "      <td>0</td>\n",
       "      <td>0</td>\n",
       "      <td>0</td>\n",
       "      <td>0</td>\n",
       "      <td>0</td>\n",
       "      <td>0</td>\n",
       "      <td>1</td>\n",
       "      <td>0</td>\n",
       "    </tr>\n",
       "    <tr>\n",
       "      <th>1</th>\n",
       "      <td>18955e83d337fd6b2def6b18a428ac77</td>\n",
       "      <td>290c77bc529b7ac935b93aa66c333dc3</td>\n",
       "      <td>9790</td>\n",
       "      <td>sao bernardo do campo</td>\n",
       "      <td>25</td>\n",
       "      <td>0</td>\n",
       "      <td>0</td>\n",
       "      <td>0</td>\n",
       "      <td>0</td>\n",
       "      <td>0</td>\n",
       "      <td>...</td>\n",
       "      <td>0</td>\n",
       "      <td>0</td>\n",
       "      <td>0</td>\n",
       "      <td>0</td>\n",
       "      <td>0</td>\n",
       "      <td>0</td>\n",
       "      <td>0</td>\n",
       "      <td>0</td>\n",
       "      <td>1</td>\n",
       "      <td>0</td>\n",
       "    </tr>\n",
       "    <tr>\n",
       "      <th>2</th>\n",
       "      <td>4e7b3e00288586ebd08712fdd0374a03</td>\n",
       "      <td>060e732b5b29e8181a18229c7b0b2b5e</td>\n",
       "      <td>1151</td>\n",
       "      <td>sao paulo</td>\n",
       "      <td>25</td>\n",
       "      <td>0</td>\n",
       "      <td>0</td>\n",
       "      <td>0</td>\n",
       "      <td>0</td>\n",
       "      <td>0</td>\n",
       "      <td>...</td>\n",
       "      <td>0</td>\n",
       "      <td>0</td>\n",
       "      <td>0</td>\n",
       "      <td>0</td>\n",
       "      <td>0</td>\n",
       "      <td>0</td>\n",
       "      <td>0</td>\n",
       "      <td>0</td>\n",
       "      <td>1</td>\n",
       "      <td>0</td>\n",
       "    </tr>\n",
       "    <tr>\n",
       "      <th>3</th>\n",
       "      <td>b2b6027bc5c5109e529d4dc6358b12c3</td>\n",
       "      <td>259dac757896d24d7702b9acbbff3f3c</td>\n",
       "      <td>8775</td>\n",
       "      <td>mogi das cruzes</td>\n",
       "      <td>25</td>\n",
       "      <td>0</td>\n",
       "      <td>0</td>\n",
       "      <td>0</td>\n",
       "      <td>0</td>\n",
       "      <td>0</td>\n",
       "      <td>...</td>\n",
       "      <td>0</td>\n",
       "      <td>0</td>\n",
       "      <td>0</td>\n",
       "      <td>0</td>\n",
       "      <td>0</td>\n",
       "      <td>0</td>\n",
       "      <td>0</td>\n",
       "      <td>0</td>\n",
       "      <td>1</td>\n",
       "      <td>0</td>\n",
       "    </tr>\n",
       "    <tr>\n",
       "      <th>4</th>\n",
       "      <td>4f2d8ab171c80ec8364f7c12e35b23ad</td>\n",
       "      <td>345ecd01c38d18a9036ed96c73b8d066</td>\n",
       "      <td>13056</td>\n",
       "      <td>campinas</td>\n",
       "      <td>25</td>\n",
       "      <td>0</td>\n",
       "      <td>0</td>\n",
       "      <td>0</td>\n",
       "      <td>0</td>\n",
       "      <td>0</td>\n",
       "      <td>...</td>\n",
       "      <td>0</td>\n",
       "      <td>0</td>\n",
       "      <td>0</td>\n",
       "      <td>0</td>\n",
       "      <td>0</td>\n",
       "      <td>0</td>\n",
       "      <td>0</td>\n",
       "      <td>0</td>\n",
       "      <td>1</td>\n",
       "      <td>0</td>\n",
       "    </tr>\n",
       "    <tr>\n",
       "      <th>5</th>\n",
       "      <td>879864dab9bc3047522c92c82e1212b8</td>\n",
       "      <td>4c93744516667ad3b8f1fb645a3116a4</td>\n",
       "      <td>89254</td>\n",
       "      <td>jaragua do sul</td>\n",
       "      <td>23</td>\n",
       "      <td>0</td>\n",
       "      <td>0</td>\n",
       "      <td>0</td>\n",
       "      <td>0</td>\n",
       "      <td>0</td>\n",
       "      <td>...</td>\n",
       "      <td>0</td>\n",
       "      <td>0</td>\n",
       "      <td>0</td>\n",
       "      <td>0</td>\n",
       "      <td>0</td>\n",
       "      <td>0</td>\n",
       "      <td>1</td>\n",
       "      <td>0</td>\n",
       "      <td>0</td>\n",
       "      <td>0</td>\n",
       "    </tr>\n",
       "    <tr>\n",
       "      <th>6</th>\n",
       "      <td>fd826e7cf63160e536e0908c76c3f441</td>\n",
       "      <td>addec96d2e059c80c30fe6871d30d177</td>\n",
       "      <td>4534</td>\n",
       "      <td>sao paulo</td>\n",
       "      <td>25</td>\n",
       "      <td>0</td>\n",
       "      <td>0</td>\n",
       "      <td>0</td>\n",
       "      <td>0</td>\n",
       "      <td>0</td>\n",
       "      <td>...</td>\n",
       "      <td>0</td>\n",
       "      <td>0</td>\n",
       "      <td>0</td>\n",
       "      <td>0</td>\n",
       "      <td>0</td>\n",
       "      <td>0</td>\n",
       "      <td>0</td>\n",
       "      <td>0</td>\n",
       "      <td>1</td>\n",
       "      <td>0</td>\n",
       "    </tr>\n",
       "    <tr>\n",
       "      <th>7</th>\n",
       "      <td>5e274e7a0c3809e14aba7ad5aae0d407</td>\n",
       "      <td>57b2a98a409812fe9618067b6b8ebe4f</td>\n",
       "      <td>35182</td>\n",
       "      <td>timoteo</td>\n",
       "      <td>10</td>\n",
       "      <td>0</td>\n",
       "      <td>0</td>\n",
       "      <td>0</td>\n",
       "      <td>0</td>\n",
       "      <td>0</td>\n",
       "      <td>...</td>\n",
       "      <td>0</td>\n",
       "      <td>0</td>\n",
       "      <td>0</td>\n",
       "      <td>0</td>\n",
       "      <td>0</td>\n",
       "      <td>0</td>\n",
       "      <td>0</td>\n",
       "      <td>0</td>\n",
       "      <td>0</td>\n",
       "      <td>0</td>\n",
       "    </tr>\n",
       "    <tr>\n",
       "      <th>8</th>\n",
       "      <td>5adf08e34b2e993982a47070956c5c65</td>\n",
       "      <td>1175e95fb47ddff9de6b2b06188f7e0d</td>\n",
       "      <td>81560</td>\n",
       "      <td>curitiba</td>\n",
       "      <td>17</td>\n",
       "      <td>0</td>\n",
       "      <td>0</td>\n",
       "      <td>0</td>\n",
       "      <td>0</td>\n",
       "      <td>0</td>\n",
       "      <td>...</td>\n",
       "      <td>1</td>\n",
       "      <td>0</td>\n",
       "      <td>0</td>\n",
       "      <td>0</td>\n",
       "      <td>0</td>\n",
       "      <td>0</td>\n",
       "      <td>0</td>\n",
       "      <td>0</td>\n",
       "      <td>0</td>\n",
       "      <td>0</td>\n",
       "    </tr>\n",
       "    <tr>\n",
       "      <th>9</th>\n",
       "      <td>4b7139f34592b3a31687243a302fa75b</td>\n",
       "      <td>9afe194fb833f79e300e37e580171f22</td>\n",
       "      <td>30575</td>\n",
       "      <td>belo horizonte</td>\n",
       "      <td>10</td>\n",
       "      <td>0</td>\n",
       "      <td>0</td>\n",
       "      <td>0</td>\n",
       "      <td>0</td>\n",
       "      <td>0</td>\n",
       "      <td>...</td>\n",
       "      <td>0</td>\n",
       "      <td>0</td>\n",
       "      <td>0</td>\n",
       "      <td>0</td>\n",
       "      <td>0</td>\n",
       "      <td>0</td>\n",
       "      <td>0</td>\n",
       "      <td>0</td>\n",
       "      <td>0</td>\n",
       "      <td>0</td>\n",
       "    </tr>\n",
       "  </tbody>\n",
       "</table>\n",
       "<p>10 rows × 32 columns</p>\n",
       "</div>"
      ],
      "text/plain": [
       "                        customer_id                customer_unique_id  \\\n",
       "0  06b8999e2fba1a1fbc88172c00ba8bc7  861eff4711a542e4b93843c6dd7febb0   \n",
       "1  18955e83d337fd6b2def6b18a428ac77  290c77bc529b7ac935b93aa66c333dc3   \n",
       "2  4e7b3e00288586ebd08712fdd0374a03  060e732b5b29e8181a18229c7b0b2b5e   \n",
       "3  b2b6027bc5c5109e529d4dc6358b12c3  259dac757896d24d7702b9acbbff3f3c   \n",
       "4  4f2d8ab171c80ec8364f7c12e35b23ad  345ecd01c38d18a9036ed96c73b8d066   \n",
       "5  879864dab9bc3047522c92c82e1212b8  4c93744516667ad3b8f1fb645a3116a4   \n",
       "6  fd826e7cf63160e536e0908c76c3f441  addec96d2e059c80c30fe6871d30d177   \n",
       "7  5e274e7a0c3809e14aba7ad5aae0d407  57b2a98a409812fe9618067b6b8ebe4f   \n",
       "8  5adf08e34b2e993982a47070956c5c65  1175e95fb47ddff9de6b2b06188f7e0d   \n",
       "9  4b7139f34592b3a31687243a302fa75b  9afe194fb833f79e300e37e580171f22   \n",
       "\n",
       "   customer_zip_code_prefix          customer_city  customer_state  \\\n",
       "0                     14409                 franca              25   \n",
       "1                      9790  sao bernardo do campo              25   \n",
       "2                      1151              sao paulo              25   \n",
       "3                      8775        mogi das cruzes              25   \n",
       "4                     13056               campinas              25   \n",
       "5                     89254         jaragua do sul              23   \n",
       "6                      4534              sao paulo              25   \n",
       "7                     35182                timoteo              10   \n",
       "8                     81560               curitiba              17   \n",
       "9                     30575         belo horizonte              10   \n",
       "\n",
       "   customer_state_AC  customer_state_AL  customer_state_AM  customer_state_AP  \\\n",
       "0                  0                  0                  0                  0   \n",
       "1                  0                  0                  0                  0   \n",
       "2                  0                  0                  0                  0   \n",
       "3                  0                  0                  0                  0   \n",
       "4                  0                  0                  0                  0   \n",
       "5                  0                  0                  0                  0   \n",
       "6                  0                  0                  0                  0   \n",
       "7                  0                  0                  0                  0   \n",
       "8                  0                  0                  0                  0   \n",
       "9                  0                  0                  0                  0   \n",
       "\n",
       "   customer_state_BA  ...  customer_state_PR  customer_state_RJ  \\\n",
       "0                  0  ...                  0                  0   \n",
       "1                  0  ...                  0                  0   \n",
       "2                  0  ...                  0                  0   \n",
       "3                  0  ...                  0                  0   \n",
       "4                  0  ...                  0                  0   \n",
       "5                  0  ...                  0                  0   \n",
       "6                  0  ...                  0                  0   \n",
       "7                  0  ...                  0                  0   \n",
       "8                  0  ...                  1                  0   \n",
       "9                  0  ...                  0                  0   \n",
       "\n",
       "   customer_state_RN  customer_state_RO  customer_state_RR  customer_state_RS  \\\n",
       "0                  0                  0                  0                  0   \n",
       "1                  0                  0                  0                  0   \n",
       "2                  0                  0                  0                  0   \n",
       "3                  0                  0                  0                  0   \n",
       "4                  0                  0                  0                  0   \n",
       "5                  0                  0                  0                  0   \n",
       "6                  0                  0                  0                  0   \n",
       "7                  0                  0                  0                  0   \n",
       "8                  0                  0                  0                  0   \n",
       "9                  0                  0                  0                  0   \n",
       "\n",
       "   customer_state_SC  customer_state_SE  customer_state_SP  customer_state_TO  \n",
       "0                  0                  0                  1                  0  \n",
       "1                  0                  0                  1                  0  \n",
       "2                  0                  0                  1                  0  \n",
       "3                  0                  0                  1                  0  \n",
       "4                  0                  0                  1                  0  \n",
       "5                  1                  0                  0                  0  \n",
       "6                  0                  0                  1                  0  \n",
       "7                  0                  0                  0                  0  \n",
       "8                  0                  0                  0                  0  \n",
       "9                  0                  0                  0                  0  \n",
       "\n",
       "[10 rows x 32 columns]"
      ]
     },
     "execution_count": 66,
     "metadata": {},
     "output_type": "execute_result"
    }
   ],
   "source": [
    "enc = pd.get_dummies(one_hot[['customer_state']])\n",
    "enc = pd.DataFrame(enc)\n",
    "\n",
    "one_hot.drop('customer_state', axis = 1, inplace = True)\n",
    "\n",
    "one_hot = en_cust.join(enc)\n",
    "one_hot.head(10)"
   ]
  },
  {
   "cell_type": "markdown",
   "id": "bbedd94e-fcc6-42af-a036-25779dd8d981",
   "metadata": {},
   "source": [
    "Dapat dilihat terdapat penambahan 27 kolom baru dari nilai kategori unik sebelumnya"
   ]
  },
  {
   "cell_type": "code",
   "execution_count": null,
   "id": "d4e7e804-ba80-4945-a86e-cc7a5ec63104",
   "metadata": {},
   "outputs": [],
   "source": []
  }
 ],
 "metadata": {
  "kernelspec": {
   "display_name": "Python 3 (ipykernel)",
   "language": "python",
   "name": "python3"
  },
  "language_info": {
   "codemirror_mode": {
    "name": "ipython",
    "version": 3
   },
   "file_extension": ".py",
   "mimetype": "text/x-python",
   "name": "python",
   "nbconvert_exporter": "python",
   "pygments_lexer": "ipython3",
   "version": "3.10.7"
  }
 },
 "nbformat": 4,
 "nbformat_minor": 5
}
