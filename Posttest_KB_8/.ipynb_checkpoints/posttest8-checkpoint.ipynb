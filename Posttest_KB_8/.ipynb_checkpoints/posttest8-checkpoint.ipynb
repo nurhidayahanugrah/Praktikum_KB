{
 "cells": [
  {
   "cell_type": "markdown",
   "id": "18469016-90e5-49c4-a9b0-c2eac662c726",
   "metadata": {},
   "source": [
    "## Posttest 8\n",
    "\n",
    "Deep learning merupakan subbidang machine learning yang algortimatnya\n",
    "terinspirasi dari struktur syaraf manusia. Struktur tersebut dinamakan Artificial\n",
    "Neural Network yang disingkat ANN. ANN memiliki kemampuan untuk belajar dan\n",
    "beradaptasi sesuai informasi yang diberikan. Deep learning menggunakan level\n",
    "hirarki jaringan saraf tiru yang dibuat seperti otak manusia dengan neuron nodes\n",
    "terhubung seperti jaring."
   ]
  },
  {
   "cell_type": "code",
   "execution_count": 1,
   "id": "263ba511-5ce6-4f5f-8069-fc5980a4ffb1",
   "metadata": {},
   "outputs": [],
   "source": [
    "import tensorflow as tf\n",
    "import matplotlib.pyplot as plt\n",
    "import numpy as np\n",
    "\n",
    "from tensorflow import keras\n",
    "from tensorflow.keras import layers,optimizers,datasets\n",
    "from tensorflow.keras import Sequential\n",
    "from tensorflow.keras.layers import Dense\n",
    "from tensorflow.keras import datasets\n",
    "import tensorflow.keras.datasets as tfds\n",
    "\n",
    "import warnings\n",
    "warnings.filterwarnings('ignore')"
   ]
  },
  {
   "cell_type": "markdown",
   "id": "ce9a9f36-ebe9-41a5-9122-eb5f4476cbd6",
   "metadata": {},
   "source": [
    "## DNN - Simple Regression"
   ]
  },
  {
   "cell_type": "code",
   "execution_count": 2,
   "id": "3e11163c-ed9b-4211-bfec-d8a520567413",
   "metadata": {},
   "outputs": [],
   "source": [
    "x = np.array([2.0, 3.0, 5.0, 7.0, 11.0, 13.0], dtype = float)\n",
    "y = np.array([4.0, 6.0, 10.0, 14.0, 22.0, 26.0], dtype = float)"
   ]
  },
  {
   "cell_type": "code",
   "execution_count": 3,
   "id": "67fd9d47-d243-40eb-8475-db34bf3f33fd",
   "metadata": {},
   "outputs": [],
   "source": [
    "model = tf.keras.Sequential([\n",
    "    tf.keras.layers.Dense(units = 1, input_shape = [1])\n",
    "])"
   ]
  },
  {
   "cell_type": "code",
   "execution_count": 4,
   "id": "ee2d3aec-d443-48e0-b2b6-0107ba361df9",
   "metadata": {},
   "outputs": [],
   "source": [
    "model.compile(optimizer = 'sgd', loss = 'mean_squared_error')"
   ]
  },
  {
   "cell_type": "code",
   "execution_count": 5,
   "id": "5f4a0f4b-ff43-4d51-8110-dc8e26ff8beb",
   "metadata": {},
   "outputs": [],
   "source": [
    "## callback\n",
    "class myCallback(tf.keras.callbacks.Callback):\n",
    "    def on_epoch_end(self, epoch, logs = {}):\n",
    "        if(logs.get('loss') < 1e-4): #akan berhenti apabila memenuhi\n",
    "            self.model.stop_training = True\n",
    "            \n",
    "cb = myCallback()"
   ]
  },
  {
   "cell_type": "code",
   "execution_count": 6,
   "id": "9cdd6fe4-451a-421e-bf33-95fb1e184130",
   "metadata": {},
   "outputs": [
    {
     "name": "stdout",
     "output_type": "stream",
     "text": [
      "Epoch 1/128\n",
      "1/1 [==============================] - 0s 235ms/step - loss: 636.0873\n",
      "Epoch 2/128\n",
      "1/1 [==============================] - 0s 5ms/step - loss: 46.9462\n",
      "Epoch 3/128\n",
      "1/1 [==============================] - 0s 4ms/step - loss: 3.4903\n",
      "Epoch 4/128\n",
      "1/1 [==============================] - 0s 0s/step - loss: 0.2846\n",
      "Epoch 5/128\n",
      "1/1 [==============================] - 0s 2ms/step - loss: 0.0479\n",
      "Epoch 6/128\n",
      "1/1 [==============================] - 0s 5ms/step - loss: 0.0302\n",
      "Epoch 7/128\n",
      "1/1 [==============================] - 0s 5ms/step - loss: 0.0286\n",
      "Epoch 8/128\n",
      "1/1 [==============================] - 0s 0s/step - loss: 0.0282\n",
      "Epoch 9/128\n",
      "1/1 [==============================] - 0s 16ms/step - loss: 0.0279\n",
      "Epoch 10/128\n",
      "1/1 [==============================] - 0s 0s/step - loss: 0.0276\n",
      "Epoch 11/128\n",
      "1/1 [==============================] - 0s 16ms/step - loss: 0.0273\n",
      "Epoch 12/128\n",
      "1/1 [==============================] - 0s 0s/step - loss: 0.0271\n",
      "Epoch 13/128\n",
      "1/1 [==============================] - 0s 0s/step - loss: 0.0268\n",
      "Epoch 14/128\n",
      "1/1 [==============================] - 0s 3ms/step - loss: 0.0265\n",
      "Epoch 15/128\n",
      "1/1 [==============================] - 0s 7ms/step - loss: 0.0263\n",
      "Epoch 16/128\n",
      "1/1 [==============================] - 0s 10ms/step - loss: 0.0260\n",
      "Epoch 17/128\n",
      "1/1 [==============================] - 0s 0s/step - loss: 0.0257\n",
      "Epoch 18/128\n",
      "1/1 [==============================] - 0s 5ms/step - loss: 0.0255\n",
      "Epoch 19/128\n",
      "1/1 [==============================] - 0s 0s/step - loss: 0.0252\n",
      "Epoch 20/128\n",
      "1/1 [==============================] - 0s 12ms/step - loss: 0.0250\n",
      "Epoch 21/128\n",
      "1/1 [==============================] - 0s 0s/step - loss: 0.0247\n",
      "Epoch 22/128\n",
      "1/1 [==============================] - 0s 11ms/step - loss: 0.0245\n",
      "Epoch 23/128\n",
      "1/1 [==============================] - 0s 3ms/step - loss: 0.0242\n",
      "Epoch 24/128\n",
      "1/1 [==============================] - 0s 3ms/step - loss: 0.0240\n",
      "Epoch 25/128\n",
      "1/1 [==============================] - 0s 5ms/step - loss: 0.0237\n",
      "Epoch 26/128\n",
      "1/1 [==============================] - 0s 2ms/step - loss: 0.0235\n",
      "Epoch 27/128\n",
      "1/1 [==============================] - 0s 5ms/step - loss: 0.0232\n",
      "Epoch 28/128\n",
      "1/1 [==============================] - 0s 4ms/step - loss: 0.0230\n",
      "Epoch 29/128\n",
      "1/1 [==============================] - 0s 4ms/step - loss: 0.0228\n",
      "Epoch 30/128\n",
      "1/1 [==============================] - 0s 4ms/step - loss: 0.0225\n",
      "Epoch 31/128\n",
      "1/1 [==============================] - 0s 3ms/step - loss: 0.0223\n",
      "Epoch 32/128\n",
      "1/1 [==============================] - 0s 9ms/step - loss: 0.0221\n",
      "Epoch 33/128\n",
      "1/1 [==============================] - 0s 0s/step - loss: 0.0219\n",
      "Epoch 34/128\n",
      "1/1 [==============================] - 0s 13ms/step - loss: 0.0216\n",
      "Epoch 35/128\n",
      "1/1 [==============================] - 0s 7ms/step - loss: 0.0214\n",
      "Epoch 36/128\n",
      "1/1 [==============================] - 0s 4ms/step - loss: 0.0212\n",
      "Epoch 37/128\n",
      "1/1 [==============================] - 0s 9ms/step - loss: 0.0210\n",
      "Epoch 38/128\n",
      "1/1 [==============================] - 0s 4ms/step - loss: 0.0208\n",
      "Epoch 39/128\n",
      "1/1 [==============================] - 0s 4ms/step - loss: 0.0206\n",
      "Epoch 40/128\n",
      "1/1 [==============================] - 0s 9ms/step - loss: 0.0204\n",
      "Epoch 41/128\n",
      "1/1 [==============================] - 0s 4ms/step - loss: 0.0202\n",
      "Epoch 42/128\n",
      "1/1 [==============================] - 0s 6ms/step - loss: 0.0199\n",
      "Epoch 43/128\n",
      "1/1 [==============================] - 0s 4ms/step - loss: 0.0197\n",
      "Epoch 44/128\n",
      "1/1 [==============================] - 0s 4ms/step - loss: 0.0195\n",
      "Epoch 45/128\n",
      "1/1 [==============================] - 0s 7ms/step - loss: 0.0193\n",
      "Epoch 46/128\n",
      "1/1 [==============================] - 0s 7ms/step - loss: 0.0192\n",
      "Epoch 47/128\n",
      "1/1 [==============================] - 0s 7ms/step - loss: 0.0190\n",
      "Epoch 48/128\n",
      "1/1 [==============================] - 0s 4ms/step - loss: 0.0188\n",
      "Epoch 49/128\n",
      "1/1 [==============================] - 0s 5ms/step - loss: 0.0186\n",
      "Epoch 50/128\n",
      "1/1 [==============================] - 0s 6ms/step - loss: 0.0184\n",
      "Epoch 51/128\n",
      "1/1 [==============================] - 0s 6ms/step - loss: 0.0182\n",
      "Epoch 52/128\n",
      "1/1 [==============================] - 0s 5ms/step - loss: 0.0180\n",
      "Epoch 53/128\n",
      "1/1 [==============================] - 0s 5ms/step - loss: 0.0178\n",
      "Epoch 54/128\n",
      "1/1 [==============================] - 0s 6ms/step - loss: 0.0177\n",
      "Epoch 55/128\n",
      "1/1 [==============================] - 0s 0s/step - loss: 0.0175\n",
      "Epoch 56/128\n",
      "1/1 [==============================] - 0s 17ms/step - loss: 0.0173\n",
      "Epoch 57/128\n",
      "1/1 [==============================] - 0s 6ms/step - loss: 0.0171\n",
      "Epoch 58/128\n",
      "1/1 [==============================] - 0s 0s/step - loss: 0.0169\n",
      "Epoch 59/128\n",
      "1/1 [==============================] - 0s 5ms/step - loss: 0.0168\n",
      "Epoch 60/128\n",
      "1/1 [==============================] - 0s 5ms/step - loss: 0.0166\n",
      "Epoch 61/128\n",
      "1/1 [==============================] - 0s 6ms/step - loss: 0.0164\n",
      "Epoch 62/128\n",
      "1/1 [==============================] - 0s 6ms/step - loss: 0.0163\n",
      "Epoch 63/128\n",
      "1/1 [==============================] - 0s 7ms/step - loss: 0.0161\n",
      "Epoch 64/128\n",
      "1/1 [==============================] - 0s 5ms/step - loss: 0.0159\n",
      "Epoch 65/128\n",
      "1/1 [==============================] - 0s 6ms/step - loss: 0.0158\n",
      "Epoch 66/128\n",
      "1/1 [==============================] - 0s 5ms/step - loss: 0.0156\n",
      "Epoch 67/128\n",
      "1/1 [==============================] - 0s 0s/step - loss: 0.0155\n",
      "Epoch 68/128\n",
      "1/1 [==============================] - 0s 14ms/step - loss: 0.0153\n",
      "Epoch 69/128\n",
      "1/1 [==============================] - 0s 5ms/step - loss: 0.0152\n",
      "Epoch 70/128\n",
      "1/1 [==============================] - 0s 5ms/step - loss: 0.0150\n",
      "Epoch 71/128\n",
      "1/1 [==============================] - 0s 4ms/step - loss: 0.0148\n",
      "Epoch 72/128\n",
      "1/1 [==============================] - 0s 4ms/step - loss: 0.0147\n",
      "Epoch 73/128\n",
      "1/1 [==============================] - 0s 2ms/step - loss: 0.0145\n",
      "Epoch 74/128\n",
      "1/1 [==============================] - 0s 2ms/step - loss: 0.0144\n",
      "Epoch 75/128\n",
      "1/1 [==============================] - 0s 0s/step - loss: 0.0143\n",
      "Epoch 76/128\n",
      "1/1 [==============================] - 0s 5ms/step - loss: 0.0141\n",
      "Epoch 77/128\n",
      "1/1 [==============================] - 0s 5ms/step - loss: 0.0140\n",
      "Epoch 78/128\n",
      "1/1 [==============================] - 0s 5ms/step - loss: 0.0138\n",
      "Epoch 79/128\n",
      "1/1 [==============================] - 0s 2ms/step - loss: 0.0137\n",
      "Epoch 80/128\n",
      "1/1 [==============================] - 0s 3ms/step - loss: 0.0135\n",
      "Epoch 81/128\n",
      "1/1 [==============================] - 0s 5ms/step - loss: 0.0134\n",
      "Epoch 82/128\n",
      "1/1 [==============================] - 0s 7ms/step - loss: 0.0133\n",
      "Epoch 83/128\n",
      "1/1 [==============================] - 0s 0s/step - loss: 0.0131\n",
      "Epoch 84/128\n",
      "1/1 [==============================] - 0s 0s/step - loss: 0.0130\n",
      "Epoch 85/128\n",
      "1/1 [==============================] - 0s 6ms/step - loss: 0.0129\n",
      "Epoch 86/128\n",
      "1/1 [==============================] - 0s 2ms/step - loss: 0.0127\n",
      "Epoch 87/128\n",
      "1/1 [==============================] - 0s 4ms/step - loss: 0.0126\n",
      "Epoch 88/128\n",
      "1/1 [==============================] - 0s 4ms/step - loss: 0.0125\n",
      "Epoch 89/128\n",
      "1/1 [==============================] - 0s 0s/step - loss: 0.0124\n",
      "Epoch 90/128\n",
      "1/1 [==============================] - 0s 11ms/step - loss: 0.0122\n",
      "Epoch 91/128\n",
      "1/1 [==============================] - 0s 5ms/step - loss: 0.0121\n",
      "Epoch 92/128\n",
      "1/1 [==============================] - 0s 0s/step - loss: 0.0120\n",
      "Epoch 93/128\n",
      "1/1 [==============================] - 0s 5ms/step - loss: 0.0119\n",
      "Epoch 94/128\n",
      "1/1 [==============================] - 0s 0s/step - loss: 0.0117\n",
      "Epoch 95/128\n",
      "1/1 [==============================] - 0s 0s/step - loss: 0.0116\n",
      "Epoch 96/128\n",
      "1/1 [==============================] - 0s 0s/step - loss: 0.0115\n",
      "Epoch 97/128\n",
      "1/1 [==============================] - 0s 11ms/step - loss: 0.0114\n",
      "Epoch 98/128\n",
      "1/1 [==============================] - 0s 4ms/step - loss: 0.0113\n",
      "Epoch 99/128\n",
      "1/1 [==============================] - 0s 9ms/step - loss: 0.0112\n",
      "Epoch 100/128\n",
      "1/1 [==============================] - 0s 7ms/step - loss: 0.0111\n",
      "Epoch 101/128\n",
      "1/1 [==============================] - 0s 5ms/step - loss: 0.0109\n",
      "Epoch 102/128\n",
      "1/1 [==============================] - 0s 3ms/step - loss: 0.0108\n",
      "Epoch 103/128\n",
      "1/1 [==============================] - 0s 6ms/step - loss: 0.0107\n",
      "Epoch 104/128\n",
      "1/1 [==============================] - 0s 5ms/step - loss: 0.0106\n",
      "Epoch 105/128\n",
      "1/1 [==============================] - 0s 8ms/step - loss: 0.0105\n",
      "Epoch 106/128\n",
      "1/1 [==============================] - 0s 0s/step - loss: 0.0104\n",
      "Epoch 107/128\n",
      "1/1 [==============================] - 0s 12ms/step - loss: 0.0103\n",
      "Epoch 108/128\n",
      "1/1 [==============================] - 0s 7ms/step - loss: 0.0102\n",
      "Epoch 109/128\n",
      "1/1 [==============================] - 0s 0s/step - loss: 0.0101\n",
      "Epoch 110/128\n",
      "1/1 [==============================] - 0s 2ms/step - loss: 0.0100\n",
      "Epoch 111/128\n",
      "1/1 [==============================] - 0s 10ms/step - loss: 0.0099\n",
      "Epoch 112/128\n",
      "1/1 [==============================] - 0s 5ms/step - loss: 0.0098\n",
      "Epoch 113/128\n",
      "1/1 [==============================] - 0s 4ms/step - loss: 0.0097\n",
      "Epoch 114/128\n",
      "1/1 [==============================] - 0s 5ms/step - loss: 0.0096\n",
      "Epoch 115/128\n",
      "1/1 [==============================] - 0s 4ms/step - loss: 0.0095\n",
      "Epoch 116/128\n",
      "1/1 [==============================] - 0s 7ms/step - loss: 0.0094\n",
      "Epoch 117/128\n",
      "1/1 [==============================] - 0s 1ms/step - loss: 0.0093\n",
      "Epoch 118/128\n",
      "1/1 [==============================] - 0s 6ms/step - loss: 0.0092\n",
      "Epoch 119/128\n",
      "1/1 [==============================] - 0s 3ms/step - loss: 0.0091\n",
      "Epoch 120/128\n",
      "1/1 [==============================] - 0s 0s/step - loss: 0.0090\n",
      "Epoch 121/128\n",
      "1/1 [==============================] - 0s 12ms/step - loss: 0.0089\n",
      "Epoch 122/128\n",
      "1/1 [==============================] - 0s 4ms/step - loss: 0.0088\n",
      "Epoch 123/128\n",
      "1/1 [==============================] - 0s 4ms/step - loss: 0.0087\n",
      "Epoch 124/128\n",
      "1/1 [==============================] - 0s 4ms/step - loss: 0.0087\n",
      "Epoch 125/128\n",
      "1/1 [==============================] - 0s 6ms/step - loss: 0.0086\n",
      "Epoch 126/128\n",
      "1/1 [==============================] - 0s 4ms/step - loss: 0.0085\n",
      "Epoch 127/128\n",
      "1/1 [==============================] - 0s 5ms/step - loss: 0.0084\n",
      "Epoch 128/128\n",
      "1/1 [==============================] - 0s 6ms/step - loss: 0.0083\n"
     ]
    },
    {
     "data": {
      "text/plain": [
       "<keras.callbacks.History at 0x21d3b99d570>"
      ]
     },
     "execution_count": 6,
     "metadata": {},
     "output_type": "execute_result"
    }
   ],
   "source": [
    "model.fit(x, y, epochs = 128, callbacks = cb)"
   ]
  },
  {
   "cell_type": "markdown",
   "id": "fb5efb5e-7bfe-4f1d-9d65-9e7919dfbef6",
   "metadata": {},
   "source": [
    "## Sequential Model\n",
    "\n",
    "Model sequential atau model yang berurutan adalah bentuk model yang\n",
    "paling umum digunakan dalam membuat DNN. Model ini bekerja dengan membuat\n",
    "tumpukan lapisan/layer dimana setiap layer memiliki input dan output. Model ini\n",
    "menampung semua layer neural network yang kita buat."
   ]
  },
  {
   "cell_type": "code",
   "execution_count": 7,
   "id": "8dda5586-babb-4118-95c9-0f75c1537a44",
   "metadata": {},
   "outputs": [],
   "source": [
    "## membaca dataset dari mnist\n",
    "(x_train_raw, y_train_raw), (x_test_raw, y_test_raw) = datasets.fashion_mnist.load_data()"
   ]
  },
  {
   "cell_type": "code",
   "execution_count": 8,
   "id": "a74e132a-0459-4156-b93f-42bfaab4cf5f",
   "metadata": {},
   "outputs": [
    {
     "name": "stdout",
     "output_type": "stream",
     "text": [
      "9\n",
      "(60000, 28, 28)\n",
      "(60000,)\n"
     ]
    }
   ],
   "source": [
    "print(y_train_raw[0])\n",
    "print(x_train_raw.shape)\n",
    "print(y_train_raw.shape)"
   ]
  },
  {
   "cell_type": "code",
   "execution_count": 9,
   "id": "d963cb66-d9a2-43fd-ad8b-f7fe121ee785",
   "metadata": {},
   "outputs": [
    {
     "name": "stdout",
     "output_type": "stream",
     "text": [
      "[0. 0. 0. 0. 0. 0. 0. 0. 0. 1.]\n"
     ]
    }
   ],
   "source": [
    "num_classes = 10\n",
    "y_train = tf.keras.utils.to_categorical(y_train_raw, num_classes)\n",
    "y_test = tf.keras.utils.to_categorical(y_test_raw, num_classes)\n",
    "\n",
    "print(y_train[0])"
   ]
  },
  {
   "cell_type": "code",
   "execution_count": 10,
   "id": "971bdde0-ab4b-46de-ab6a-58294d13af6e",
   "metadata": {},
   "outputs": [
    {
     "data": {
      "image/png": "[encoded data removed]",
      "text/plain": [
       "<Figure size 640x480 with 9 Axes>"
      ]
     },
     "metadata": {},
     "output_type": "display_data"
    }
   ],
   "source": [
    "plt.figure()\n",
    "for i in range(9):\n",
    "    plt.subplot(3,3,i+1)\n",
    "    plt.imshow(x_train_raw[i])\n",
    "    plt.axis('off')\n",
    "plt.show()"
   ]
  },
  {
   "cell_type": "code",
   "execution_count": 11,
   "id": "4c20226e-184d-4e98-bc7a-4cb66b8990ae",
   "metadata": {},
   "outputs": [],
   "source": [
    "# konversikan dimensi tensor yang dari gambar 28x28 menjadi dimensi 784x1 vector\n",
    "x_train = x_train_raw.reshape(60000, 784)\n",
    "x_test = x_test_raw.reshape(10000, 784)"
   ]
  },
  {
   "cell_type": "code",
   "execution_count": 12,
   "id": "f636aeb8-28b1-47b7-b14a-95247d426e9a",
   "metadata": {},
   "outputs": [],
   "source": [
    "# normalisasi gambar\n",
    "x_train = x_train.astype('float32')/255\n",
    "x_test = x_test.astype('float32')/255"
   ]
  },
  {
   "cell_type": "code",
   "execution_count": 13,
   "id": "3afff5e4-cd2d-45e4-a6cc-3a294af0c2b1",
   "metadata": {},
   "outputs": [
    {
     "name": "stdout",
     "output_type": "stream",
     "text": [
      "Model: \"sequential_1\"\n",
      "_________________________________________________________________\n",
      " Layer (type)                Output Shape              Param #   \n",
      "=================================================================\n",
      " dense_1 (Dense)             (None, 512)               401920    \n",
      "                                                                 \n",
      " dense_2 (Dense)             (None, 256)               131328    \n",
      "                                                                 \n",
      " dense_3 (Dense)             (None, 124)               31868     \n",
      "                                                                 \n",
      " dense_4 (Dense)             (None, 10)                1250      \n",
      "                                                                 \n",
      "=================================================================\n",
      "Total params: 566,366\n",
      "Trainable params: 566,366\n",
      "Non-trainable params: 0\n",
      "_________________________________________________________________\n"
     ]
    }
   ],
   "source": [
    "model = tf.keras.Sequential([\n",
    "    tf.keras.layers.Dense(512, activation = 'relu', input_dim = 784), \n",
    "    tf.keras.layers.Dense(256, activation = 'relu'),\n",
    "    tf.keras.layers.Dense(124, activation = 'relu'),\n",
    "    tf.keras.layers.Dense(10, activation = 'softmax')\n",
    "])\n",
    "model.summary()"
   ]
  },
  {
   "cell_type": "markdown",
   "id": "22b8ebf2-ac4f-4275-859b-372828c8bad9",
   "metadata": {},
   "source": [
    "## Training Model"
   ]
  },
  {
   "cell_type": "code",
   "execution_count": 14,
   "id": "bb388608-872f-41f4-9e75-37d3d3714dca",
   "metadata": {},
   "outputs": [],
   "source": [
    "model.compile(optimizer = 'adam', loss = 'categorical_crossentropy', metrics = ['accuracy'])"
   ]
  },
  {
   "cell_type": "markdown",
   "id": "4788fc44-b731-40ae-b09c-209d4fde0b60",
   "metadata": {},
   "source": [
    "## Model Evaluation"
   ]
  },
  {
   "cell_type": "code",
   "execution_count": 15,
   "id": "14278a17-2a6e-4620-ab48-623904b9a848",
   "metadata": {},
   "outputs": [
    {
     "name": "stdout",
     "output_type": "stream",
     "text": [
      "313/313 [==============================] - 1s 3ms/step - loss: 2.3578 - accuracy: 0.0502\n"
     ]
    },
    {
     "data": {
      "text/plain": [
       "[2.3578245639801025, 0.050200000405311584]"
      ]
     },
     "execution_count": 15,
     "metadata": {},
     "output_type": "execute_result"
    }
   ],
   "source": [
    "model.evaluate(x_test, y_test)"
   ]
  },
  {
   "cell_type": "code",
   "execution_count": 16,
   "id": "a47763b3-29d2-4fc9-a060-1c1dec886236",
   "metadata": {},
   "outputs": [
    {
     "name": "stdout",
     "output_type": "stream",
     "text": [
      "Epoch 1/10\n",
      "469/469 [==============================] - 4s 8ms/step - loss: 0.4908 - accuracy: 0.8240 - val_loss: 0.4301 - val_accuracy: 0.8436\n",
      "Epoch 2/10\n",
      "469/469 [==============================] - 4s 8ms/step - loss: 0.3528 - accuracy: 0.8704 - val_loss: 0.3800 - val_accuracy: 0.8574\n",
      "Epoch 3/10\n",
      "469/469 [==============================] - 4s 8ms/step - loss: 0.3206 - accuracy: 0.8807 - val_loss: 0.3673 - val_accuracy: 0.8700\n",
      "Epoch 4/10\n",
      "469/469 [==============================] - 4s 9ms/step - loss: 0.2963 - accuracy: 0.8906 - val_loss: 0.3900 - val_accuracy: 0.8639\n",
      "Epoch 5/10\n",
      "469/469 [==============================] - 4s 9ms/step - loss: 0.2762 - accuracy: 0.8969 - val_loss: 0.3362 - val_accuracy: 0.8778\n",
      "Epoch 6/10\n",
      "469/469 [==============================] - 4s 8ms/step - loss: 0.2621 - accuracy: 0.9027 - val_loss: 0.3166 - val_accuracy: 0.8848\n",
      "Epoch 7/10\n",
      "469/469 [==============================] - 4s 8ms/step - loss: 0.2500 - accuracy: 0.9058 - val_loss: 0.3392 - val_accuracy: 0.8781\n",
      "Epoch 8/10\n",
      "469/469 [==============================] - 4s 9ms/step - loss: 0.2399 - accuracy: 0.9095 - val_loss: 0.3203 - val_accuracy: 0.8835\n",
      "Epoch 9/10\n",
      "469/469 [==============================] - 4s 8ms/step - loss: 0.2283 - accuracy: 0.9139 - val_loss: 0.3303 - val_accuracy: 0.8840\n",
      "Epoch 10/10\n",
      "469/469 [==============================] - 4s 9ms/step - loss: 0.2198 - accuracy: 0.9174 - val_loss: 0.3213 - val_accuracy: 0.8871\n"
     ]
    },
    {
     "data": {
      "text/plain": [
       "<keras.callbacks.History at 0x21d44445090>"
      ]
     },
     "execution_count": 16,
     "metadata": {},
     "output_type": "execute_result"
    }
   ],
   "source": [
    "model.fit(x_train, y_train, epochs = 10, batch_size = 128, validation_data = [x_test, y_test])"
   ]
  },
  {
   "cell_type": "code",
   "execution_count": 17,
   "id": "c7ea49b8-e78d-41b0-b829-e6dc0ba36a72",
   "metadata": {},
   "outputs": [],
   "source": [
    "Optimizer = optimizers.Adam(learning_rate=0.0001)\n",
    "model.compile(loss=keras.losses.categorical_crossentropy,optimizer=Optimizer, metrics=['accuracy'])"
   ]
  },
  {
   "cell_type": "markdown",
   "id": "bbcb990c-a06d-4c33-86d2-5b4b19ef36bb",
   "metadata": {},
   "source": [
    "## Model Prediction"
   ]
  },
  {
   "cell_type": "code",
   "execution_count": 18,
   "id": "b38eaf62-5747-4f82-8ce2-e3dfbb0d42a5",
   "metadata": {},
   "outputs": [
    {
     "name": "stdout",
     "output_type": "stream",
     "text": [
      "313/313 [==============================] - 1s 3ms/step\n"
     ]
    }
   ],
   "source": [
    "predict = model.predict(x_test)"
   ]
  },
  {
   "cell_type": "code",
   "execution_count": 19,
   "id": "ecb1723a-26f9-46c8-a577-07ffb8fa5312",
   "metadata": {},
   "outputs": [
    {
     "data": {
      "image/png": "[encoded data removed]",
      "text/plain": [
       "<Figure size 640x480 with 1 Axes>"
      ]
     },
     "metadata": {},
     "output_type": "display_data"
    }
   ],
   "source": [
    "label = np.argmax(predict,axis=0)\n",
    "ActualLabel = np.argmax(y_test[7])\n",
    "\n",
    "\n",
    "\n",
    "img = x_test[4].reshape(28, 28)\n",
    "\n",
    "plt.title(f\"Aktual Label : {ActualLabel}, Predicted Label : {label[7]}\")\n",
    "\n",
    "plt.imshow(img)\n",
    "plt.show()"
   ]
  },
  {
   "cell_type": "markdown",
   "id": "f8c55b94-8762-4bb4-a817-955635c416cf",
   "metadata": {},
   "source": [
    "## Model Saving (HDF5)"
   ]
  },
  {
   "cell_type": "code",
   "execution_count": 21,
   "id": "40803e3f-fc12-4988-82f8-412b602d1016",
   "metadata": {},
   "outputs": [],
   "source": [
    "model.save('model.h5')"
   ]
  },
  {
   "cell_type": "markdown",
   "id": "2f7ee667-f799-4f27-92fc-0abf45371df4",
   "metadata": {},
   "source": [
    "## Model loading"
   ]
  },
  {
   "cell_type": "code",
   "execution_count": 22,
   "id": "28095c69-2e50-4f4f-b988-4aad1dd2551c",
   "metadata": {},
   "outputs": [
    {
     "data": {
      "text/plain": [
       "<keras.engine.sequential.Sequential at 0x21d3bb5b190>"
      ]
     },
     "execution_count": 22,
     "metadata": {},
     "output_type": "execute_result"
    }
   ],
   "source": [
    "tf.keras.models.load_model('model.h5')"
   ]
  },
  {
   "cell_type": "code",
   "execution_count": null,
   "id": "c00fb0bc-0adf-4c79-8324-8ef6dfd68a23",
   "metadata": {},
   "outputs": [],
   "source": []
  }
 ],
 "metadata": {
  "kernelspec": {
   "display_name": "Python 3 (ipykernel)",
   "language": "python",
   "name": "python3"
  },
  "language_info": {
   "codemirror_mode": {
    "name": "ipython",
    "version": 3
   },
   "file_extension": ".py",
   "mimetype": "text/x-python",
   "name": "python",
   "nbconvert_exporter": "python",
   "pygments_lexer": "ipython3",
   "version": "3.10.7"
  }
 },
 "nbformat": 4,
 "nbformat_minor": 5
}
