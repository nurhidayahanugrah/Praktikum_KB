{
 "cells": [
  {
   "cell_type": "markdown",
   "id": "a4fcfd7c-2e58-4190-9017-0937e2db31f4",
   "metadata": {
    "tags": []
   },
   "source": [
    "# Import library pandas dan numpy"
   ]
  },
  {
   "cell_type": "code",
   "execution_count": 3,
   "id": "a4b96b6c-2159-4d75-b52b-bba0b668f6f6",
   "metadata": {},
   "outputs": [],
   "source": [
    "import pandas as pd\n",
    "import numpy as np"
   ]
  },
  {
   "cell_type": "code",
   "execution_count": 4,
   "id": "730923dc-c9a8-45e2-b1e3-489e8cf591f8",
   "metadata": {},
   "outputs": [],
   "source": [
    "db = pd.read_csv('books.csv')"
   ]
  },
  {
   "cell_type": "markdown",
   "id": "30d745ef-2385-4b55-8ca6-88b9ca3e40e2",
   "metadata": {},
   "source": [
    "# Tipe Dataset yang digunakan"
   ]
  },
  {
   "cell_type": "code",
   "execution_count": 5,
   "id": "c200f221-73bc-46da-a1dd-b1a02c1e98a5",
   "metadata": {},
   "outputs": [
    {
     "data": {
      "text/plain": [
       "title                 object\n",
       "author                object\n",
       "google_id             object\n",
       "recommender           object\n",
       "recommender_count      int64\n",
       "category              object\n",
       "publication_date      object\n",
       "pages                float64\n",
       "dtype: object"
      ]
     },
     "execution_count": 5,
     "metadata": {},
     "output_type": "execute_result"
    }
   ],
   "source": [
    "db.dtypes"
   ]
  },
  {
   "cell_type": "markdown",
   "id": "4acfe16d-7214-4fd1-9da7-04c71cf6d158",
   "metadata": {},
   "source": [
    "# Menampilkan seluruh dataset"
   ]
  },
  {
   "cell_type": "code",
   "execution_count": 69,
   "id": "6f36293a-f985-4131-9433-12b3765662eb",
   "metadata": {},
   "outputs": [
    {
     "data": {
      "text/html": [
       "<div>\n",
       "<style scoped>\n",
       "    .dataframe tbody tr th:only-of-type {\n",
       "        vertical-align: middle;\n",
       "    }\n",
       "\n",
       "    .dataframe tbody tr th {\n",
       "        vertical-align: top;\n",
       "    }\n",
       "\n",
       "    .dataframe thead th {\n",
       "        text-align: right;\n",
       "    }\n",
       "</style>\n",
       "<table border=\"1\" class=\"dataframe\">\n",
       "  <thead>\n",
       "    <tr style=\"text-align: right;\">\n",
       "      <th></th>\n",
       "      <th>title</th>\n",
       "      <th>author</th>\n",
       "      <th>google_id</th>\n",
       "      <th>recommender</th>\n",
       "      <th>recommender_count</th>\n",
       "      <th>category</th>\n",
       "      <th>publication_date</th>\n",
       "      <th>pages</th>\n",
       "    </tr>\n",
       "  </thead>\n",
       "  <tbody>\n",
       "    <tr>\n",
       "      <th>0</th>\n",
       "      <td>Surely You're Joking, Mr. Feynman!</td>\n",
       "      <td>Richard P. Feynman</td>\n",
       "      <td>_gA_DwAAQBAJ</td>\n",
       "      <td>Brian Armstrong|Ev Williams|Larry Page|Mark Zu...</td>\n",
       "      <td>8</td>\n",
       "      <td>Biography &amp; Autobiography</td>\n",
       "      <td>2018</td>\n",
       "      <td>352.000</td>\n",
       "    </tr>\n",
       "    <tr>\n",
       "      <th>1</th>\n",
       "      <td>What Do You Care What Other People Think?</td>\n",
       "      <td>Richard P. Feynman</td>\n",
       "      <td>vbMIlkpQXEkC</td>\n",
       "      <td>Larry Page|Naval Ravikant</td>\n",
       "      <td>2</td>\n",
       "      <td>Biography &amp; Autobiography</td>\n",
       "      <td>2011</td>\n",
       "      <td>256.000</td>\n",
       "    </tr>\n",
       "    <tr>\n",
       "      <th>2</th>\n",
       "      <td>10% Happier</td>\n",
       "      <td>Dan Harris</td>\n",
       "      <td>pINcvgEACAAJ</td>\n",
       "      <td>Peter Attia|Veronica Belmont</td>\n",
       "      <td>2</td>\n",
       "      <td>Buddhism</td>\n",
       "      <td>2017</td>\n",
       "      <td>256.000</td>\n",
       "    </tr>\n",
       "    <tr>\n",
       "      <th>3</th>\n",
       "      <td>100 Best-Loved Poems</td>\n",
       "      <td>Philip Smith</td>\n",
       "      <td>YzRKPwAACAAJ</td>\n",
       "      <td>Naval Ravikant</td>\n",
       "      <td>1</td>\n",
       "      <td>Poetry</td>\n",
       "      <td>1995</td>\n",
       "      <td>96.000</td>\n",
       "    </tr>\n",
       "    <tr>\n",
       "      <th>4</th>\n",
       "      <td>100 Great Operas And Their Stories</td>\n",
       "      <td>Henry W. Simon</td>\n",
       "      <td>KEfSAOggWXwC</td>\n",
       "      <td>Eric Weinstein</td>\n",
       "      <td>1</td>\n",
       "      <td>Music</td>\n",
       "      <td>2010</td>\n",
       "      <td>560.000</td>\n",
       "    </tr>\n",
       "    <tr>\n",
       "      <th>...</th>\n",
       "      <td>...</td>\n",
       "      <td>...</td>\n",
       "      <td>...</td>\n",
       "      <td>...</td>\n",
       "      <td>...</td>\n",
       "      <td>...</td>\n",
       "      <td>...</td>\n",
       "      <td>...</td>\n",
       "    </tr>\n",
       "    <tr>\n",
       "      <th>2998</th>\n",
       "      <td>Tragedy And Comedy</td>\n",
       "      <td>Walter Kerr</td>\n",
       "      <td>NaN</td>\n",
       "      <td>Ben Shapiro</td>\n",
       "      <td>1</td>\n",
       "      <td>NaN</td>\n",
       "      <td>NaN</td>\n",
       "      <td>NaN</td>\n",
       "    </tr>\n",
       "    <tr>\n",
       "      <th>2999</th>\n",
       "      <td>Trespass</td>\n",
       "      <td>Aimee Nezhukumatathil</td>\n",
       "      <td>NaN</td>\n",
       "      <td>Rolf Potts</td>\n",
       "      <td>1</td>\n",
       "      <td>NaN</td>\n",
       "      <td>NaN</td>\n",
       "      <td>NaN</td>\n",
       "    </tr>\n",
       "    <tr>\n",
       "      <th>3000</th>\n",
       "      <td>Tribe of Mentors</td>\n",
       "      <td>Tim Ferriss</td>\n",
       "      <td>NaN</td>\n",
       "      <td>Tony Robbins</td>\n",
       "      <td>1</td>\n",
       "      <td>NaN</td>\n",
       "      <td>NaN</td>\n",
       "      <td>NaN</td>\n",
       "    </tr>\n",
       "    <tr>\n",
       "      <th>3001</th>\n",
       "      <td>Wheels for the World</td>\n",
       "      <td>Douglas G. Brinkley</td>\n",
       "      <td>NaN</td>\n",
       "      <td>Paul Graham</td>\n",
       "      <td>1</td>\n",
       "      <td>NaN</td>\n",
       "      <td>NaN</td>\n",
       "      <td>NaN</td>\n",
       "    </tr>\n",
       "    <tr>\n",
       "      <th>3002</th>\n",
       "      <td>Work Hard. Be Nice.</td>\n",
       "      <td>Jay Mathews</td>\n",
       "      <td>NaN</td>\n",
       "      <td>Bill Gates</td>\n",
       "      <td>1</td>\n",
       "      <td>NaN</td>\n",
       "      <td>NaN</td>\n",
       "      <td>NaN</td>\n",
       "    </tr>\n",
       "  </tbody>\n",
       "</table>\n",
       "<p>3003 rows × 8 columns</p>\n",
       "</div>"
      ],
      "text/plain": [
       "                                          title                 author  \\\n",
       "0            Surely You're Joking, Mr. Feynman!     Richard P. Feynman   \n",
       "1     What Do You Care What Other People Think?     Richard P. Feynman   \n",
       "2                                   10% Happier             Dan Harris   \n",
       "3                          100 Best-Loved Poems           Philip Smith   \n",
       "4            100 Great Operas And Their Stories         Henry W. Simon   \n",
       "...                                         ...                    ...   \n",
       "2998                         Tragedy And Comedy            Walter Kerr   \n",
       "2999                                   Trespass  Aimee Nezhukumatathil   \n",
       "3000                           Tribe of Mentors            Tim Ferriss   \n",
       "3001                       Wheels for the World    Douglas G. Brinkley   \n",
       "3002                        Work Hard. Be Nice.            Jay Mathews   \n",
       "\n",
       "         google_id                                        recommender  \\\n",
       "0     _gA_DwAAQBAJ  Brian Armstrong|Ev Williams|Larry Page|Mark Zu...   \n",
       "1     vbMIlkpQXEkC                          Larry Page|Naval Ravikant   \n",
       "2     pINcvgEACAAJ                       Peter Attia|Veronica Belmont   \n",
       "3     YzRKPwAACAAJ                                     Naval Ravikant   \n",
       "4     KEfSAOggWXwC                                     Eric Weinstein   \n",
       "...            ...                                                ...   \n",
       "2998           NaN                                        Ben Shapiro   \n",
       "2999           NaN                                         Rolf Potts   \n",
       "3000           NaN                                       Tony Robbins   \n",
       "3001           NaN                                        Paul Graham   \n",
       "3002           NaN                                         Bill Gates   \n",
       "\n",
       "      recommender_count                   category publication_date   pages  \n",
       "0                     8  Biography & Autobiography             2018 352.000  \n",
       "1                     2  Biography & Autobiography             2011 256.000  \n",
       "2                     2                   Buddhism             2017 256.000  \n",
       "3                     1                     Poetry             1995  96.000  \n",
       "4                     1                      Music             2010 560.000  \n",
       "...                 ...                        ...              ...     ...  \n",
       "2998                  1                        NaN              NaN     NaN  \n",
       "2999                  1                        NaN              NaN     NaN  \n",
       "3000                  1                        NaN              NaN     NaN  \n",
       "3001                  1                        NaN              NaN     NaN  \n",
       "3002                  1                        NaN              NaN     NaN  \n",
       "\n",
       "[3003 rows x 8 columns]"
      ]
     },
     "execution_count": 69,
     "metadata": {},
     "output_type": "execute_result"
    }
   ],
   "source": [
    "db"
   ]
  },
  {
   "cell_type": "markdown",
   "id": "4295584e-55d2-4c89-b4e1-95ec8a1b74fc",
   "metadata": {},
   "source": [
    "# Menampilkan jumlah record, nama atribut, dan jumlah atribut"
   ]
  },
  {
   "cell_type": "code",
   "execution_count": 70,
   "id": "5a654c73-0e3b-419e-b801-432e7685bc27",
   "metadata": {},
   "outputs": [
    {
     "data": {
      "text/plain": [
       "Jumlah Record                                                  3003\n",
       "Nama Atribut      Index(['title', 'author', 'google_id', 'recomm...\n",
       "Jumlah Atribut                                                    6\n",
       "dtype: object"
      ]
     },
     "execution_count": 70,
     "metadata": {},
     "output_type": "execute_result"
    }
   ],
   "source": [
    "jumlah_record = len(db)\n",
    "nama_atribut = db.columns\n",
    "jumlah_atribut = len(db.select_dtypes(include=['object']).columns)\n",
    "\n",
    "info_dict = {'Jumlah Record' : jumlah_record,\n",
    "             'Nama Atribut' : nama_atribut,\n",
    "             'Jumlah Atribut' : jumlah_atribut}\n",
    "\n",
    "# df = pd.DataFrame(info_dict)\n",
    "# df.head() \n",
    "pd.Series(info_dict)"
   ]
  },
  {
   "cell_type": "markdown",
   "id": "999f8109-264e-43e5-ade2-d6488bb663ab",
   "metadata": {},
   "source": [
    "# Menampilkan jumlah atribut dengan tipe angka dan jumlah atribut yang memiliki nilai null"
   ]
  },
  {
   "cell_type": "code",
   "execution_count": 71,
   "id": "ff3212cd-a55b-476f-b7b7-fafbbb0c5740",
   "metadata": {},
   "outputs": [
    {
     "data": {
      "text/plain": [
       "Jumlah Attribut         1\n",
       "Jumlah Attribut NULL    4\n",
       "dtype: int64"
      ]
     },
     "execution_count": 71,
     "metadata": {},
     "output_type": "execute_result"
    }
   ],
   "source": [
    "jumlah_atributangka = len(db.select_dtypes(include=['int64']).columns)\n",
    "jumlah_NULL = len(db.columns[db.isna().sum() > 0])\n",
    "\n",
    "dict_angka = {'Jumlah Attribut' : jumlah_atributangka,\n",
    "              'Jumlah Attribut NULL' : jumlah_NULL,\n",
    "}\n",
    "\n",
    "pd.Series(dict_angka)"
   ]
  },
  {
   "cell_type": "markdown",
   "id": "5297ebf8-5fa3-4902-b85f-b460cccaacdf",
   "metadata": {},
   "source": [
    "# Menampilkan rata-rata, dtandar deviasi, nilai minimum, dan nilai maksimum, Q1, Q2, Q3 dari atribut bertipe angka"
   ]
  },
  {
   "cell_type": "code",
   "execution_count": 72,
   "id": "4c060b5a-6357-4a12-84ed-6cd4285661de",
   "metadata": {},
   "outputs": [
    {
     "data": {
      "text/html": [
       "<div>\n",
       "<style scoped>\n",
       "    .dataframe tbody tr th:only-of-type {\n",
       "        vertical-align: middle;\n",
       "    }\n",
       "\n",
       "    .dataframe tbody tr th {\n",
       "        vertical-align: top;\n",
       "    }\n",
       "\n",
       "    .dataframe thead th {\n",
       "        text-align: right;\n",
       "    }\n",
       "</style>\n",
       "<table border=\"1\" class=\"dataframe\">\n",
       "  <thead>\n",
       "    <tr style=\"text-align: right;\">\n",
       "      <th></th>\n",
       "      <th>recommender_count</th>\n",
       "      <th>pages</th>\n",
       "    </tr>\n",
       "  </thead>\n",
       "  <tbody>\n",
       "    <tr>\n",
       "      <th>count</th>\n",
       "      <td>3003.000</td>\n",
       "      <td>2814.000</td>\n",
       "    </tr>\n",
       "    <tr>\n",
       "      <th>mean</th>\n",
       "      <td>1.398</td>\n",
       "      <td>358.089</td>\n",
       "    </tr>\n",
       "    <tr>\n",
       "      <th>std</th>\n",
       "      <td>1.284</td>\n",
       "      <td>236.024</td>\n",
       "    </tr>\n",
       "    <tr>\n",
       "      <th>min</th>\n",
       "      <td>1.000</td>\n",
       "      <td>1.000</td>\n",
       "    </tr>\n",
       "    <tr>\n",
       "      <th>25%</th>\n",
       "      <td>1.000</td>\n",
       "      <td>240.000</td>\n",
       "    </tr>\n",
       "    <tr>\n",
       "      <th>50%</th>\n",
       "      <td>1.000</td>\n",
       "      <td>316.500</td>\n",
       "    </tr>\n",
       "    <tr>\n",
       "      <th>75%</th>\n",
       "      <td>1.000</td>\n",
       "      <td>416.000</td>\n",
       "    </tr>\n",
       "    <tr>\n",
       "      <th>max</th>\n",
       "      <td>22.000</td>\n",
       "      <td>5685.000</td>\n",
       "    </tr>\n",
       "  </tbody>\n",
       "</table>\n",
       "</div>"
      ],
      "text/plain": [
       "       recommender_count    pages\n",
       "count           3003.000 2814.000\n",
       "mean               1.398  358.089\n",
       "std                1.284  236.024\n",
       "min                1.000    1.000\n",
       "25%                1.000  240.000\n",
       "50%                1.000  316.500\n",
       "75%                1.000  416.000\n",
       "max               22.000 5685.000"
      ]
     },
     "execution_count": 72,
     "metadata": {},
     "output_type": "execute_result"
    }
   ],
   "source": [
    "db.describe()"
   ]
  },
  {
   "cell_type": "markdown",
   "id": "fc009878-4267-42c2-a755-14293f9d5e0a",
   "metadata": {},
   "source": [
    "# Menampilkan nilai korelasi bertipe angka"
   ]
  },
  {
   "cell_type": "code",
   "execution_count": 73,
   "id": "2d9b6885-d304-4ee0-ad3f-8182fe8f3dbd",
   "metadata": {},
   "outputs": [
    {
     "data": {
      "text/html": [
       "<div>\n",
       "<style scoped>\n",
       "    .dataframe tbody tr th:only-of-type {\n",
       "        vertical-align: middle;\n",
       "    }\n",
       "\n",
       "    .dataframe tbody tr th {\n",
       "        vertical-align: top;\n",
       "    }\n",
       "\n",
       "    .dataframe thead th {\n",
       "        text-align: right;\n",
       "    }\n",
       "</style>\n",
       "<table border=\"1\" class=\"dataframe\">\n",
       "  <thead>\n",
       "    <tr style=\"text-align: right;\">\n",
       "      <th></th>\n",
       "      <th>recommender_count</th>\n",
       "    </tr>\n",
       "  </thead>\n",
       "  <tbody>\n",
       "    <tr>\n",
       "      <th>recommender_count</th>\n",
       "      <td>1.000</td>\n",
       "    </tr>\n",
       "  </tbody>\n",
       "</table>\n",
       "</div>"
      ],
      "text/plain": [
       "                   recommender_count\n",
       "recommender_count              1.000"
      ]
     },
     "execution_count": 73,
     "metadata": {},
     "output_type": "execute_result"
    }
   ],
   "source": [
    "db.select_dtypes(include=['int64']).corr()"
   ]
  },
  {
   "cell_type": "markdown",
   "id": "b5c34967-009d-4746-8fb7-821a9b0ada92",
   "metadata": {},
   "source": [
    "# Merubah data bertipe int ke float"
   ]
  },
  {
   "cell_type": "code",
   "execution_count": 74,
   "id": "2c32bc30-9e4f-4082-90ee-8e694d03e828",
   "metadata": {},
   "outputs": [
    {
     "data": {
      "text/plain": [
       "0      8.000\n",
       "1      2.000\n",
       "2      2.000\n",
       "3      1.000\n",
       "4      1.000\n",
       "        ... \n",
       "2998   1.000\n",
       "2999   1.000\n",
       "3000   1.000\n",
       "3001   1.000\n",
       "3002   1.000\n",
       "Name: recommender_count, Length: 3003, dtype: float64"
      ]
     },
     "execution_count": 74,
     "metadata": {},
     "output_type": "execute_result"
    }
   ],
   "source": [
    "pd.options.display.float_format = '{:.3f}'.format\n",
    "db['recommender_count'].astype('float64')"
   ]
  },
  {
   "cell_type": "markdown",
   "id": "9ca8eb26-196d-4957-bcc0-20299c4c1ad7",
   "metadata": {},
   "source": [
    "# Menampilkan 10 record pertama dari atribut bertipe angka"
   ]
  },
  {
   "cell_type": "code",
   "execution_count": 75,
   "id": "b6227084-ee99-4563-a73e-78d77ef625e2",
   "metadata": {},
   "outputs": [
    {
     "data": {
      "text/html": [
       "<div>\n",
       "<style scoped>\n",
       "    .dataframe tbody tr th:only-of-type {\n",
       "        vertical-align: middle;\n",
       "    }\n",
       "\n",
       "    .dataframe tbody tr th {\n",
       "        vertical-align: top;\n",
       "    }\n",
       "\n",
       "    .dataframe thead th {\n",
       "        text-align: right;\n",
       "    }\n",
       "</style>\n",
       "<table border=\"1\" class=\"dataframe\">\n",
       "  <thead>\n",
       "    <tr style=\"text-align: right;\">\n",
       "      <th></th>\n",
       "      <th>recommender_count</th>\n",
       "      <th>pages</th>\n",
       "    </tr>\n",
       "  </thead>\n",
       "  <tbody>\n",
       "    <tr>\n",
       "      <th>0</th>\n",
       "      <td>8</td>\n",
       "      <td>352.000</td>\n",
       "    </tr>\n",
       "    <tr>\n",
       "      <th>1</th>\n",
       "      <td>2</td>\n",
       "      <td>256.000</td>\n",
       "    </tr>\n",
       "    <tr>\n",
       "      <th>2</th>\n",
       "      <td>2</td>\n",
       "      <td>256.000</td>\n",
       "    </tr>\n",
       "    <tr>\n",
       "      <th>3</th>\n",
       "      <td>1</td>\n",
       "      <td>96.000</td>\n",
       "    </tr>\n",
       "    <tr>\n",
       "      <th>4</th>\n",
       "      <td>1</td>\n",
       "      <td>560.000</td>\n",
       "    </tr>\n",
       "    <tr>\n",
       "      <th>5</th>\n",
       "      <td>1</td>\n",
       "      <td>272.000</td>\n",
       "    </tr>\n",
       "    <tr>\n",
       "      <th>6</th>\n",
       "      <td>4</td>\n",
       "      <td>320.000</td>\n",
       "    </tr>\n",
       "    <tr>\n",
       "      <th>7</th>\n",
       "      <td>1</td>\n",
       "      <td>173.000</td>\n",
       "    </tr>\n",
       "    <tr>\n",
       "      <th>8</th>\n",
       "      <td>1</td>\n",
       "      <td>240.000</td>\n",
       "    </tr>\n",
       "    <tr>\n",
       "      <th>9</th>\n",
       "      <td>1</td>\n",
       "      <td>138.000</td>\n",
       "    </tr>\n",
       "  </tbody>\n",
       "</table>\n",
       "</div>"
      ],
      "text/plain": [
       "   recommender_count   pages\n",
       "0                  8 352.000\n",
       "1                  2 256.000\n",
       "2                  2 256.000\n",
       "3                  1  96.000\n",
       "4                  1 560.000\n",
       "5                  1 272.000\n",
       "6                  4 320.000\n",
       "7                  1 173.000\n",
       "8                  1 240.000\n",
       "9                  1 138.000"
      ]
     },
     "execution_count": 75,
     "metadata": {},
     "output_type": "execute_result"
    }
   ],
   "source": [
    "db.select_dtypes(include=['int64', 'float64']).head(10)"
   ]
  },
  {
   "cell_type": "markdown",
   "id": "03fe8c5c-0631-4442-9937-fa606ab8c8a9",
   "metadata": {},
   "source": [
    "# Menyimpan dataset dengan atribut bertipe angka ke dalma file csv"
   ]
  },
  {
   "cell_type": "code",
   "execution_count": 68,
   "id": "664f4eb0-7df0-4abd-8a2f-1018087f336c",
   "metadata": {},
   "outputs": [],
   "source": [
    "db.select_dtypes(include=['int64', 'float64']).to_csv(\"books_bertipe_angka.csv\", index = False)"
   ]
  }
 ],
 "metadata": {
  "kernelspec": {
   "display_name": "Python 3 (ipykernel)",
   "language": "python",
   "name": "python3"
  },
  "language_info": {
   "codemirror_mode": {
    "name": "ipython",
    "version": 3
   },
   "file_extension": ".py",
   "mimetype": "text/x-python",
   "name": "python",
   "nbconvert_exporter": "python",
   "pygments_lexer": "ipython3",
   "version": "3.10.7"
  }
 },
 "nbformat": 4,
 "nbformat_minor": 5
}
